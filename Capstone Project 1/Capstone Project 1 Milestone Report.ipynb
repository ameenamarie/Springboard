{
 "cells": [
  {
   "cell_type": "markdown",
   "metadata": {},
   "source": [
    "# Capstone Project 1 Milestone Report"
   ]
  },
  {
   "cell_type": "markdown",
   "metadata": {},
   "source": [
    "## Background\n",
    "\n",
    "Lending Club is an online loan platform that allows individuals to take out personal loans of up to $40,000. Borrowers can apply for a loan online and will typically receive their money within a few days of submitting their application. Unlike a bank, the platform uses investors to fund loans and acts as the intermediary between investors and borrowers.\n",
    "\n",
    "Occassionally a borrower does not pay back a loan in full and Lending Club must \"Charge Off\" the loan. This typically happens once a loan payment is at least 150 days past due, but can also occur earlier or later depending on the circumstances (i.e. a borrower files for bankruptcy)."
   ]
  },
  {
   "cell_type": "markdown",
   "metadata": {},
   "source": [
    "## Problem\n",
    "\n",
    "How much money does Lending Club lose to charged off loans? Is it possible to help Lending Club predict the risk of a specific borrower failing to pay off their loan? Can a model be built to minimize the risk to Lending Club investors and decrease the amount of money lost each year? "
   ]
  },
  {
   "cell_type": "markdown",
   "metadata": {},
   "source": [
    "## The Data\n",
    "\n",
    "To answer this question I will be using Lending Club's __[dataset](https://www.lendingclub.com/info/download-data.action)__ that contains all loan information from 2007-2011. \n",
    "\n",
    "The original dataset includes over 140 features. I decided to start by reducing the data to 17 features of interest:\n",
    "* **Funded Amount:** The amount loaned to the borrower\n",
    "* **Term:** The length of the loan (either 36 months or 60 months)\n",
    "* **Interest Rate:** Interest rate on the loan\n",
    "* **Installment:** Loan payments\n",
    "* **Grade:** LC assigned loan grade\n",
    "* **Sub Grade:** LC assigned loan sub-grade \n",
    "* **Employment Title:** The job title supplied by the borrower when applying for a loan\n",
    "* **Employment Length:** Borrowers length of employment \n",
    "* **Home Ownership:** Home ownership status provided by borrower: RENT, OWN, MORTGAGE, OTHER\n",
    "* **Annual Income:** Annual income provided by borrower\n",
    "* **Verification Status:** Indicates if income was verified by LC\n",
    "* **Issue Date:** Month and year the loan was issued\n",
    "* **Loan Status:** Lists whether a loan is CURRENT or CHARGED OFF\n",
    "* **Purpose of Loan:** Purpose of loan provided by borrower\n",
    "* **Title of Loan:** Loan title provided by borrower\n",
    "* **State of Borrower:** State of residence provided by borrower\n",
    "* **dti:** Debt to income ratio calculated using borrower's total monthly debt payments on the total debt obligations, divided by borrower's self-reported annual income \n",
    "\n",
    "### Cleaning the Dataset\n",
    "#### Missing Data\n",
    "\n",
    "I found several columns with missing data and handled them as follows: \n",
    "* **Employment Title:** Missing 2624 entries. Replaced all missing information with 'Unknown'. I also had several titles with less than 20 counts, so I renamed those to 'Other'. \n",
    "* **Annual Income:** Four entries were missing income data so I replaced those with the mean annual income of \\$69,136.56. \n",
    "* **Title:** Title was missing 12 values, so I replaced those with 'Unknown'\n",
    "\n",
    "#### Date Issued\n",
    "\n",
    "In case I wanted to look deeper at the month and year that a loan was issued, I decided to create two additional columns: \n",
    "* **Month Issued:** the month a loan was issued\n",
    "* **Year Issued:** the year a loan was issued\n",
    "\n",
    "#### Loan Status\n",
    "\n",
    "Since loan status is what I will be using as my independent variable throughout this project, I decided to turn it into a binomial variable as follows: \n",
    "* Fully Paid: 0\n",
    "* Charged Off: 1\n",
    "\n",
    "Note that Fully Paid means that the loan is currently up to date with all payments and is in good standing. It does not necessarily mean that the loan has been repaid in full."
   ]
  },
  {
   "cell_type": "markdown",
   "metadata": {},
   "source": [
    "## Exploratory Data Analysis\n",
    "\n",
    "\n",
    "From 2007-2011, Lending Club issued over \\$460 million dollars in loans. Of the 42,535 loans issued during that time, 15.1 percent of them were charged off. These loans totaled over $73.9 million dollars. While this amount does not take into account how much a borrower repaid before the loan was charged off or how much money Lending Club investors will lose in interest that would have been paid on the loan, it's safe to say it is still a lot of money Lending Club investors are losing!"
   ]
  },
  {
   "cell_type": "markdown",
   "metadata": {},
   "source": [
    "<img src=\"visuals/graph1.png\">"
   ]
  },
  {
   "cell_type": "markdown",
   "metadata": {
    "collapsed": true
   },
   "source": [
    "### Trends over time\n",
    "\n",
    "Next I looked at the number of loans issued over time and compared it the number of loans that were charged off over time. "
   ]
  },
  {
   "cell_type": "markdown",
   "metadata": {},
   "source": [
    "<img src=\"visuals/graph2.png\">"
   ]
  },
  {
   "cell_type": "markdown",
   "metadata": {},
   "source": [
    "<img src=\"visuals/graph3.png\">"
   ]
  },
  {
   "cell_type": "markdown",
   "metadata": {},
   "source": [
    "Looking at the graphs, it appears the number of loans that are charged off has remained proportionally consistent over time. Additional statistical analysis will allow me to see if there is a more significant relationship here."
   ]
  },
  {
   "cell_type": "markdown",
   "metadata": {},
   "source": [
    "### Statistical Analysis\n",
    "\n",
    "To better understand whether or not there is a significant relationship between a feature and whether or not a borrower's loan will be charged off, I performed t-tests and logistic regressions on each feature of interest. \n",
    "\n",
    "Before I began with the statistical analysis, I realized I needed to further narrow down which features to examine. When Lending Club receives a loan application, it gives that loan a grade (A-G). This grade is based on the applicant's loan information and credit score and is used to determine the interest rate on the loan. Since information like grade, interest rate, and installment are assigned to a borrower based on their potential risk as a borrower, I decided to only focus on the information provided by the borrower and use that to see if I can predict whether or not their loan will be charged off. This left the following features: \n",
    "\n",
    "* Funded Amount\n",
    "* Employment Length\n",
    "* Home Ownership\n",
    "* Annual Income \n",
    "* Date Loan was Issued\n",
    "* Purpose of Loan\n",
    "* State of Residence\n",
    "* Debt to Income Ratio \n",
    "\n",
    "My statistical analysis revealed that all 8 features are significantly correlated to the status of a loan and whether or not it is charged off. I will be further examining them as I move into the machine learning portion of my project.\n",
    "\n",
    "A detailed breakdown of the stastical findings can be found in the __[project code](https://github.com/ameenamarie/Springboard-Data-Science-Career-Track/blob/master/Capstone%20Project%201/Capstone%20Project%201%20Milestone%20Code.ipynb)__. \n",
    "\n"
   ]
  }
 ],
 "metadata": {
  "kernelspec": {
   "display_name": "Python 3",
   "language": "python",
   "name": "python3"
  },
  "language_info": {
   "codemirror_mode": {
    "name": "ipython",
    "version": 3
   },
   "file_extension": ".py",
   "mimetype": "text/x-python",
   "name": "python",
   "nbconvert_exporter": "python",
   "pygments_lexer": "ipython3",
   "version": "3.6.1"
  }
 },
 "nbformat": 4,
 "nbformat_minor": 2
}
