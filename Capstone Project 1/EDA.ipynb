{
 "cells": [
  {
   "cell_type": "code",
   "execution_count": 37,
   "metadata": {},
   "outputs": [
    {
     "name": "stdout",
     "output_type": "stream",
     "text": [
      "Populating the interactive namespace from numpy and matplotlib\n"
     ]
    }
   ],
   "source": [
    "# Import libraries and magics\n",
    "%matplotlib inline\n",
    "%pylab inline\n",
    "\n",
    "import pandas as pd\n",
    "import matplotlib.pyplot as plt\n",
    "import seaborn as sns\n",
    "from scipy import stats\n",
    "import statsmodels.api as sm\n",
    "sns.set()"
   ]
  },
  {
   "cell_type": "markdown",
   "metadata": {},
   "source": [
    "# Capstone Project 1: Exploratory Data Analysis"
   ]
  },
  {
   "cell_type": "markdown",
   "metadata": {},
   "source": [
    "## Introduction\n",
    "\n",
    "After looking at the data story, it appears that there might be a correlation between some of the features in the dataset and individuals who default. In order to be sure, I need to perform some statistical tests to see which, if any, features actually correlate to default rates. \n",
    "\n",
    "I've decided to focus on the following features to see if they are correlated to the default rates:\n",
    "* Funded Amount\n",
    "* Employment Length\n",
    "* Home Ownership\n",
    "* Annual Income\n",
    "* Date Loan was Issued\n",
    "* Purpose of Loan\n",
    "* Title of Loan\n",
    "* State of Residence\n",
    "* Debt to Income ratio \n",
    "\n",
    "**Links**\n",
    "\n",
    "* Link to dataset: https://resources.lendingclub.com/LoanStats3a.csv.zip\n",
    "* Link to data wrangling process: https://goo.gl/vSfcwL\n",
    "* Link to data story: https://goo.gl/LeYn87"
   ]
  },
  {
   "cell_type": "code",
   "execution_count": 38,
   "metadata": {
    "collapsed": true
   },
   "outputs": [],
   "source": [
    "# Import dataframe\n",
    "df = pd.read_csv('loan_clean.csv', header = 0, index_col = 0)"
   ]
  },
  {
   "cell_type": "code",
   "execution_count": 39,
   "metadata": {
    "scrolled": true
   },
   "outputs": [
    {
     "data": {
      "text/html": [
       "<div>\n",
       "<style>\n",
       "    .dataframe thead tr:only-child th {\n",
       "        text-align: right;\n",
       "    }\n",
       "\n",
       "    .dataframe thead th {\n",
       "        text-align: left;\n",
       "    }\n",
       "\n",
       "    .dataframe tbody tr th {\n",
       "        vertical-align: top;\n",
       "    }\n",
       "</style>\n",
       "<table border=\"1\" class=\"dataframe\">\n",
       "  <thead>\n",
       "    <tr style=\"text-align: right;\">\n",
       "      <th></th>\n",
       "      <th>funded_amnt</th>\n",
       "      <th>term</th>\n",
       "      <th>int_rate</th>\n",
       "      <th>installment</th>\n",
       "      <th>grade</th>\n",
       "      <th>sub_grade</th>\n",
       "      <th>emp_title</th>\n",
       "      <th>emp_length</th>\n",
       "      <th>home_ownership</th>\n",
       "      <th>annual_inc</th>\n",
       "      <th>verification_status</th>\n",
       "      <th>issue_d</th>\n",
       "      <th>loan_status</th>\n",
       "      <th>purpose</th>\n",
       "      <th>title</th>\n",
       "      <th>addr_state</th>\n",
       "      <th>dti</th>\n",
       "      <th>issue_year</th>\n",
       "      <th>issue_month</th>\n",
       "    </tr>\n",
       "  </thead>\n",
       "  <tbody>\n",
       "    <tr>\n",
       "      <th>0</th>\n",
       "      <td>5000.0</td>\n",
       "      <td>36 months</td>\n",
       "      <td>0.1065</td>\n",
       "      <td>162.87</td>\n",
       "      <td>B</td>\n",
       "      <td>B2</td>\n",
       "      <td>Unknown</td>\n",
       "      <td>10+ years</td>\n",
       "      <td>RENT</td>\n",
       "      <td>24000.0</td>\n",
       "      <td>Verified</td>\n",
       "      <td>2011-12-01</td>\n",
       "      <td>0</td>\n",
       "      <td>credit_card</td>\n",
       "      <td>Other</td>\n",
       "      <td>AZ</td>\n",
       "      <td>27.65</td>\n",
       "      <td>11</td>\n",
       "      <td>Dec</td>\n",
       "    </tr>\n",
       "    <tr>\n",
       "      <th>1</th>\n",
       "      <td>2500.0</td>\n",
       "      <td>60 months</td>\n",
       "      <td>0.1527</td>\n",
       "      <td>59.83</td>\n",
       "      <td>C</td>\n",
       "      <td>C4</td>\n",
       "      <td>Other</td>\n",
       "      <td>&lt; 1 year</td>\n",
       "      <td>RENT</td>\n",
       "      <td>30000.0</td>\n",
       "      <td>Source Verified</td>\n",
       "      <td>2011-12-01</td>\n",
       "      <td>1</td>\n",
       "      <td>car</td>\n",
       "      <td>Other</td>\n",
       "      <td>GA</td>\n",
       "      <td>1.00</td>\n",
       "      <td>11</td>\n",
       "      <td>Dec</td>\n",
       "    </tr>\n",
       "    <tr>\n",
       "      <th>2</th>\n",
       "      <td>2400.0</td>\n",
       "      <td>36 months</td>\n",
       "      <td>0.1596</td>\n",
       "      <td>84.33</td>\n",
       "      <td>C</td>\n",
       "      <td>C5</td>\n",
       "      <td>Unknown</td>\n",
       "      <td>10+ years</td>\n",
       "      <td>RENT</td>\n",
       "      <td>12252.0</td>\n",
       "      <td>Not Verified</td>\n",
       "      <td>2011-12-01</td>\n",
       "      <td>0</td>\n",
       "      <td>small_business</td>\n",
       "      <td>Other</td>\n",
       "      <td>IL</td>\n",
       "      <td>8.72</td>\n",
       "      <td>11</td>\n",
       "      <td>Dec</td>\n",
       "    </tr>\n",
       "    <tr>\n",
       "      <th>3</th>\n",
       "      <td>10000.0</td>\n",
       "      <td>36 months</td>\n",
       "      <td>0.1349</td>\n",
       "      <td>339.31</td>\n",
       "      <td>C</td>\n",
       "      <td>C1</td>\n",
       "      <td>Other</td>\n",
       "      <td>10+ years</td>\n",
       "      <td>RENT</td>\n",
       "      <td>49200.0</td>\n",
       "      <td>Source Verified</td>\n",
       "      <td>2011-12-01</td>\n",
       "      <td>0</td>\n",
       "      <td>other</td>\n",
       "      <td>Other</td>\n",
       "      <td>CA</td>\n",
       "      <td>20.00</td>\n",
       "      <td>11</td>\n",
       "      <td>Dec</td>\n",
       "    </tr>\n",
       "    <tr>\n",
       "      <th>4</th>\n",
       "      <td>3000.0</td>\n",
       "      <td>60 months</td>\n",
       "      <td>0.1269</td>\n",
       "      <td>67.79</td>\n",
       "      <td>B</td>\n",
       "      <td>B5</td>\n",
       "      <td>Other</td>\n",
       "      <td>1 year</td>\n",
       "      <td>RENT</td>\n",
       "      <td>80000.0</td>\n",
       "      <td>Source Verified</td>\n",
       "      <td>2011-12-01</td>\n",
       "      <td>0</td>\n",
       "      <td>other</td>\n",
       "      <td>Personal</td>\n",
       "      <td>OR</td>\n",
       "      <td>17.94</td>\n",
       "      <td>11</td>\n",
       "      <td>Dec</td>\n",
       "    </tr>\n",
       "  </tbody>\n",
       "</table>\n",
       "</div>"
      ],
      "text/plain": [
       "   funded_amnt        term  int_rate  installment grade sub_grade emp_title  \\\n",
       "0       5000.0   36 months    0.1065       162.87     B        B2   Unknown   \n",
       "1       2500.0   60 months    0.1527        59.83     C        C4     Other   \n",
       "2       2400.0   36 months    0.1596        84.33     C        C5   Unknown   \n",
       "3      10000.0   36 months    0.1349       339.31     C        C1     Other   \n",
       "4       3000.0   60 months    0.1269        67.79     B        B5     Other   \n",
       "\n",
       "  emp_length home_ownership  annual_inc verification_status     issue_d  \\\n",
       "0  10+ years           RENT     24000.0            Verified  2011-12-01   \n",
       "1   < 1 year           RENT     30000.0     Source Verified  2011-12-01   \n",
       "2  10+ years           RENT     12252.0        Not Verified  2011-12-01   \n",
       "3  10+ years           RENT     49200.0     Source Verified  2011-12-01   \n",
       "4     1 year           RENT     80000.0     Source Verified  2011-12-01   \n",
       "\n",
       "   loan_status         purpose     title addr_state    dti  issue_year  \\\n",
       "0            0     credit_card     Other         AZ  27.65          11   \n",
       "1            1             car     Other         GA   1.00          11   \n",
       "2            0  small_business     Other         IL   8.72          11   \n",
       "3            0           other     Other         CA  20.00          11   \n",
       "4            0           other  Personal         OR  17.94          11   \n",
       "\n",
       "  issue_month  \n",
       "0         Dec  \n",
       "1         Dec  \n",
       "2         Dec  \n",
       "3         Dec  \n",
       "4         Dec  "
      ]
     },
     "execution_count": 39,
     "metadata": {},
     "output_type": "execute_result"
    }
   ],
   "source": [
    "# Examine dataframe\n",
    "df.head()"
   ]
  },
  {
   "cell_type": "markdown",
   "metadata": {},
   "source": [
    "## Current Loan Status"
   ]
  },
  {
   "cell_type": "markdown",
   "metadata": {},
   "source": [
    "As a reminder, every loan in the Lending Tree dataset has two different categories: \n",
    "- Fully Paid: the loan is currently up to date with all payments and is in good standing\n",
    "- Charged Off: the loan is in default and is not expected to be paid off by the borrower \n",
    "\n",
    "For purposes of the data exploration and analysis, I will be assigning the categories as follows: \n",
    "- Fully Paid: 0\n",
    "- Charged Off: 1"
   ]
  },
  {
   "cell_type": "code",
   "execution_count": 40,
   "metadata": {},
   "outputs": [
    {
     "name": "stdout",
     "output_type": "stream",
     "text": [
      "Number of Loans that are Fully Paid (0) or Charged Off (1):\n"
     ]
    },
    {
     "data": {
      "text/plain": [
       "0    36104\n",
       "1     6431\n",
       "Name: loan_status, dtype: int64"
      ]
     },
     "execution_count": 40,
     "metadata": {},
     "output_type": "execute_result"
    }
   ],
   "source": [
    "print('Number of Loans that are Fully Paid (0) or Charged Off (1):')\n",
    "df.loan_status.value_counts()"
   ]
  },
  {
   "cell_type": "code",
   "execution_count": 62,
   "metadata": {},
   "outputs": [
    {
     "name": "stdout",
     "output_type": "stream",
     "text": [
      "Percentage of loans that are in default:\n",
      "15.12\n"
     ]
    }
   ],
   "source": [
    "a = 6431/(36104+6431)*100\n",
    "print('Percentage of loans that are in default:') \n",
    "print(round(a,2))"
   ]
  },
  {
   "cell_type": "markdown",
   "metadata": {},
   "source": [
    "## Funded Amount \n",
    "\n",
    "**H0**: There is no difference between default rates for the amount funded per loan <br>\n",
    "**H1**: There is a difference between default rates for the amount funded per loan"
   ]
  },
  {
   "cell_type": "code",
   "execution_count": 42,
   "metadata": {},
   "outputs": [
    {
     "data": {
      "text/html": [
       "<div>\n",
       "<style>\n",
       "    .dataframe thead tr:only-child th {\n",
       "        text-align: right;\n",
       "    }\n",
       "\n",
       "    .dataframe thead th {\n",
       "        text-align: left;\n",
       "    }\n",
       "\n",
       "    .dataframe tbody tr th {\n",
       "        vertical-align: top;\n",
       "    }\n",
       "</style>\n",
       "<table border=\"1\" class=\"dataframe\">\n",
       "  <thead>\n",
       "    <tr style=\"text-align: right;\">\n",
       "      <th></th>\n",
       "      <th>funded_amnt</th>\n",
       "    </tr>\n",
       "    <tr>\n",
       "      <th>loan_status</th>\n",
       "      <th></th>\n",
       "    </tr>\n",
       "  </thead>\n",
       "  <tbody>\n",
       "    <tr>\n",
       "      <th>0</th>\n",
       "      <td>10702.134805</td>\n",
       "    </tr>\n",
       "    <tr>\n",
       "      <th>1</th>\n",
       "      <td>11492.190173</td>\n",
       "    </tr>\n",
       "  </tbody>\n",
       "</table>\n",
       "</div>"
      ],
      "text/plain": [
       "              funded_amnt\n",
       "loan_status              \n",
       "0            10702.134805\n",
       "1            11492.190173"
      ]
     },
     "execution_count": 42,
     "metadata": {},
     "output_type": "execute_result"
    },
    {
     "data": {
      "image/png": "[encoded data removed]",
      "text/plain": [
       "<matplotlib.figure.Figure at 0x1165d41d0>"
      ]
     },
     "metadata": {},
     "output_type": "display_data"
    },
    {
     "data": {
      "image/png": "[encoded data removed]",
      "text/plain": [
       "<matplotlib.figure.Figure at 0x1165d4128>"
      ]
     },
     "metadata": {},
     "output_type": "display_data"
    }
   ],
   "source": [
    "# Create a box plot of funded_amnt and loan_status\n",
    "df.boxplot(column=['funded_amnt'],by = ['loan_status']).set_yscale('log')\n",
    "pd.DataFrame(df.groupby( ['loan_status'])['funded_amnt'].describe().loc[:,['mean','std']])\n",
    "\n",
    "# Compare the ratio for funded_amnt and loan_status\n",
    "df.groupby(['loan_status'])[['funded_amnt']].mean().plot(kind='bar').set_ylabel('Count')\n",
    "df.groupby(['loan_status' ])[['funded_amnt']].mean()"
   ]
  },
  {
   "cell_type": "code",
   "execution_count": 43,
   "metadata": {},
   "outputs": [
    {
     "data": {
      "text/plain": [
       "Ttest_indResult(statistic=-8.1736933651248265, pvalue=3.0727095710409249e-16)"
      ]
     },
     "execution_count": 43,
     "metadata": {},
     "output_type": "execute_result"
    }
   ],
   "source": [
    "# Perform a t-test on funded_amnt\n",
    "val1 = df.funded_amnt[df.loan_status == 0]\n",
    "val2 = df.funded_amnt[df.loan_status == 1]\n",
    "stats.ttest_ind(val1, val2)"
   ]
  },
  {
   "cell_type": "markdown",
   "metadata": {},
   "source": [
    "The p-value is below 0.05 so I can reject the null hypothesis."
   ]
  },
  {
   "cell_type": "markdown",
   "metadata": {},
   "source": [
    "## Employment Length"
   ]
  },
  {
   "cell_type": "markdown",
   "metadata": {},
   "source": [
    "**H0**: There is no difference between default rates and a borrower's length of employment<br>\n",
    "**H1**: There is a difference between default rates and  borrower's length of employment"
   ]
  },
  {
   "cell_type": "code",
   "execution_count": 58,
   "metadata": {},
   "outputs": [
    {
     "name": "stdout",
     "output_type": "stream",
     "text": [
      "Optimization terminated successfully.\n",
      "         Current function value: 0.424087\n",
      "         Iterations 6\n"
     ]
    },
    {
     "data": {
      "text/html": [
       "<table class=\"simpletable\">\n",
       "<caption>Logit Regression Results</caption>\n",
       "<tr>\n",
       "  <th>Dep. Variable:</th>    <td>loan_status</td>   <th>  No. Observations:  </th>  <td> 42535</td>  \n",
       "</tr>\n",
       "<tr>\n",
       "  <th>Model:</th>               <td>Logit</td>      <th>  Df Residuals:      </th>  <td> 42523</td>  \n",
       "</tr>\n",
       "<tr>\n",
       "  <th>Method:</th>               <td>MLE</td>       <th>  Df Model:          </th>  <td>    11</td>  \n",
       "</tr>\n",
       "<tr>\n",
       "  <th>Date:</th>          <td>Tue, 17 Jul 2018</td> <th>  Pseudo R-squ.:     </th> <td>0.001616</td> \n",
       "</tr>\n",
       "<tr>\n",
       "  <th>Time:</th>              <td>19:05:15</td>     <th>  Log-Likelihood:    </th> <td> -18039.</td> \n",
       "</tr>\n",
       "<tr>\n",
       "  <th>converged:</th>           <td>True</td>       <th>  LL-Null:           </th> <td> -18068.</td> \n",
       "</tr>\n",
       "<tr>\n",
       "  <th> </th>                      <td> </td>        <th>  LLR p-value:       </th> <td>1.830e-08</td>\n",
       "</tr>\n",
       "</table>\n",
       "<table class=\"simpletable\">\n",
       "<tr>\n",
       "      <td></td>         <th>coef</th>     <th>std err</th>      <th>z</th>      <th>P>|z|</th>  <th>[0.025</th>    <th>0.975]</th>  \n",
       "</tr>\n",
       "<tr>\n",
       "  <th>1 year</th>    <td>   -0.4454</td> <td>    0.086</td> <td>   -5.185</td> <td> 0.000</td> <td>   -0.614</td> <td>   -0.277</td>\n",
       "</tr>\n",
       "<tr>\n",
       "  <th>10+ years</th> <td>   -0.3905</td> <td>    0.078</td> <td>   -5.030</td> <td> 0.000</td> <td>   -0.543</td> <td>   -0.238</td>\n",
       "</tr>\n",
       "<tr>\n",
       "  <th>2 years</th>   <td>   -0.5692</td> <td>    0.084</td> <td>   -6.799</td> <td> 0.000</td> <td>   -0.733</td> <td>   -0.405</td>\n",
       "</tr>\n",
       "<tr>\n",
       "  <th>3 years</th>   <td>   -0.5157</td> <td>    0.084</td> <td>   -6.125</td> <td> 0.000</td> <td>   -0.681</td> <td>   -0.351</td>\n",
       "</tr>\n",
       "<tr>\n",
       "  <th>4 years</th>   <td>   -0.5264</td> <td>    0.086</td> <td>   -6.090</td> <td> 0.000</td> <td>   -0.696</td> <td>   -0.357</td>\n",
       "</tr>\n",
       "<tr>\n",
       "  <th>5 years</th>   <td>   -0.4930</td> <td>    0.087</td> <td>   -5.678</td> <td> 0.000</td> <td>   -0.663</td> <td>   -0.323</td>\n",
       "</tr>\n",
       "<tr>\n",
       "  <th>6 years</th>   <td>   -0.4849</td> <td>    0.093</td> <td>   -5.238</td> <td> 0.000</td> <td>   -0.666</td> <td>   -0.303</td>\n",
       "</tr>\n",
       "<tr>\n",
       "  <th>7 years</th>   <td>   -0.4144</td> <td>    0.096</td> <td>   -4.307</td> <td> 0.000</td> <td>   -0.603</td> <td>   -0.226</td>\n",
       "</tr>\n",
       "<tr>\n",
       "  <th>8 years</th>   <td>   -0.4748</td> <td>    0.101</td> <td>   -4.707</td> <td> 0.000</td> <td>   -0.672</td> <td>   -0.277</td>\n",
       "</tr>\n",
       "<tr>\n",
       "  <th>9 years</th>   <td>   -0.6003</td> <td>    0.108</td> <td>   -5.561</td> <td> 0.000</td> <td>   -0.812</td> <td>   -0.389</td>\n",
       "</tr>\n",
       "<tr>\n",
       "  <th>< 1 year</th>  <td>   -0.4837</td> <td>    0.082</td> <td>   -5.867</td> <td> 0.000</td> <td>   -0.645</td> <td>   -0.322</td>\n",
       "</tr>\n",
       "<tr>\n",
       "  <th>intercept</th> <td>   -1.2638</td> <td>    0.072</td> <td>  -17.467</td> <td> 0.000</td> <td>   -1.406</td> <td>   -1.122</td>\n",
       "</tr>\n",
       "</table>"
      ],
      "text/plain": [
       "<class 'statsmodels.iolib.summary.Summary'>\n",
       "\"\"\"\n",
       "                           Logit Regression Results                           \n",
       "==============================================================================\n",
       "Dep. Variable:            loan_status   No. Observations:                42535\n",
       "Model:                          Logit   Df Residuals:                    42523\n",
       "Method:                           MLE   Df Model:                           11\n",
       "Date:                Tue, 17 Jul 2018   Pseudo R-squ.:                0.001616\n",
       "Time:                        19:05:15   Log-Likelihood:                -18039.\n",
       "converged:                       True   LL-Null:                       -18068.\n",
       "                                        LLR p-value:                 1.830e-08\n",
       "==============================================================================\n",
       "                 coef    std err          z      P>|z|      [0.025      0.975]\n",
       "------------------------------------------------------------------------------\n",
       "1 year        -0.4454      0.086     -5.185      0.000      -0.614      -0.277\n",
       "10+ years     -0.3905      0.078     -5.030      0.000      -0.543      -0.238\n",
       "2 years       -0.5692      0.084     -6.799      0.000      -0.733      -0.405\n",
       "3 years       -0.5157      0.084     -6.125      0.000      -0.681      -0.351\n",
       "4 years       -0.5264      0.086     -6.090      0.000      -0.696      -0.357\n",
       "5 years       -0.4930      0.087     -5.678      0.000      -0.663      -0.323\n",
       "6 years       -0.4849      0.093     -5.238      0.000      -0.666      -0.303\n",
       "7 years       -0.4144      0.096     -4.307      0.000      -0.603      -0.226\n",
       "8 years       -0.4748      0.101     -4.707      0.000      -0.672      -0.277\n",
       "9 years       -0.6003      0.108     -5.561      0.000      -0.812      -0.389\n",
       "< 1 year      -0.4837      0.082     -5.867      0.000      -0.645      -0.322\n",
       "intercept     -1.2638      0.072    -17.467      0.000      -1.406      -1.122\n",
       "==============================================================================\n",
       "\"\"\""
      ]
     },
     "execution_count": 58,
     "metadata": {},
     "output_type": "execute_result"
    }
   ],
   "source": [
    "df_ind = pd.get_dummies(df['emp_length'])\n",
    "df_ind['intercept'] = 1\n",
    "df_ind['loan_status'] = df.loan_status\n",
    "\n",
    "logit = sm.Logit(df_ind['loan_status'], df_ind [['1 year', '10+ years', '2 years','3 years','4 years','intercept']] )\n",
    "\n",
    "result = logit.fit() \n",
    "result.summary()"
   ]
  },
  {
   "cell_type": "markdown",
   "metadata": {},
   "source": [
    "The p-value for length of employment is below 0.05 so I can reject the null hypothesis."
   ]
  },
  {
   "cell_type": "markdown",
   "metadata": {},
   "source": [
    "## Home Ownership\n",
    "\n",
    "**H0**: There is no difference between default rates and a borrower's home ownership status<br>\n",
    "**H1**: There is a difference between default rates and  borrower's home ownership status"
   ]
  },
  {
   "cell_type": "code",
   "execution_count": 45,
   "metadata": {},
   "outputs": [
    {
     "data": {
      "text/html": [
       "<div>\n",
       "<style>\n",
       "    .dataframe thead tr:only-child th {\n",
       "        text-align: right;\n",
       "    }\n",
       "\n",
       "    .dataframe thead th {\n",
       "        text-align: left;\n",
       "    }\n",
       "\n",
       "    .dataframe tbody tr th {\n",
       "        vertical-align: top;\n",
       "    }\n",
       "</style>\n",
       "<table border=\"1\" class=\"dataframe\">\n",
       "  <thead>\n",
       "    <tr style=\"text-align: right;\">\n",
       "      <th></th>\n",
       "      <th>loan_status</th>\n",
       "    </tr>\n",
       "    <tr>\n",
       "      <th>home_ownership</th>\n",
       "      <th></th>\n",
       "    </tr>\n",
       "  </thead>\n",
       "  <tbody>\n",
       "    <tr>\n",
       "      <th>MORTGAGE</th>\n",
       "      <td>0.142360</td>\n",
       "    </tr>\n",
       "    <tr>\n",
       "      <th>NONE</th>\n",
       "      <td>0.125000</td>\n",
       "    </tr>\n",
       "    <tr>\n",
       "      <th>OTHER</th>\n",
       "      <td>0.213235</td>\n",
       "    </tr>\n",
       "    <tr>\n",
       "      <th>OWN</th>\n",
       "      <td>0.152261</td>\n",
       "    </tr>\n",
       "    <tr>\n",
       "      <th>RENT</th>\n",
       "      <td>0.158912</td>\n",
       "    </tr>\n",
       "  </tbody>\n",
       "</table>\n",
       "</div>"
      ],
      "text/plain": [
       "                loan_status\n",
       "home_ownership             \n",
       "MORTGAGE           0.142360\n",
       "NONE               0.125000\n",
       "OTHER              0.213235\n",
       "OWN                0.152261\n",
       "RENT               0.158912"
      ]
     },
     "execution_count": 45,
     "metadata": {},
     "output_type": "execute_result"
    },
    {
     "data": {
      "image/png": "[encoded data removed]",
      "text/plain": [
       "<matplotlib.figure.Figure at 0x1163c0d30>"
      ]
     },
     "metadata": {},
     "output_type": "display_data"
    }
   ],
   "source": [
    "df.groupby(['home_ownership'])[['loan_status']].mean().plot(kind='bar').set_ylabel('Count')\n",
    "df.groupby(['home_ownership' ])[['loan_status']].mean()"
   ]
  },
  {
   "cell_type": "code",
   "execution_count": 59,
   "metadata": {},
   "outputs": [
    {
     "name": "stdout",
     "output_type": "stream",
     "text": [
      "Optimization terminated successfully.\n",
      "         Current function value: 0.424482\n",
      "         Iterations 6\n"
     ]
    },
    {
     "data": {
      "text/html": [
       "<table class=\"simpletable\">\n",
       "<caption>Logit Regression Results</caption>\n",
       "<tr>\n",
       "  <th>Dep. Variable:</th>    <td>loan_status</td>   <th>  No. Observations:  </th>  <td> 42535</td>  \n",
       "</tr>\n",
       "<tr>\n",
       "  <th>Model:</th>               <td>Logit</td>      <th>  Df Residuals:      </th>  <td> 42530</td>  \n",
       "</tr>\n",
       "<tr>\n",
       "  <th>Method:</th>               <td>MLE</td>       <th>  Df Model:          </th>  <td>     4</td>  \n",
       "</tr>\n",
       "<tr>\n",
       "  <th>Date:</th>          <td>Tue, 17 Jul 2018</td> <th>  Pseudo R-squ.:     </th> <td>0.0006844</td>\n",
       "</tr>\n",
       "<tr>\n",
       "  <th>Time:</th>              <td>19:06:46</td>     <th>  Log-Likelihood:    </th> <td> -18055.</td> \n",
       "</tr>\n",
       "<tr>\n",
       "  <th>converged:</th>           <td>True</td>       <th>  LL-Null:           </th> <td> -18068.</td> \n",
       "</tr>\n",
       "<tr>\n",
       "  <th> </th>                      <td> </td>        <th>  LLR p-value:       </th> <td>5.695e-05</td>\n",
       "</tr>\n",
       "</table>\n",
       "<table class=\"simpletable\">\n",
       "<tr>\n",
       "      <td></td>         <th>coef</th>     <th>std err</th>      <th>z</th>      <th>P>|z|</th>  <th>[0.025</th>    <th>0.975]</th>  \n",
       "</tr>\n",
       "<tr>\n",
       "  <th>MORTGAGE</th>  <td>    0.1501</td> <td>    1.069</td> <td>    0.140</td> <td> 0.888</td> <td>   -1.946</td> <td>    2.246</td>\n",
       "</tr>\n",
       "<tr>\n",
       "  <th>OTHER</th>     <td>    0.6404</td> <td>    1.089</td> <td>    0.588</td> <td> 0.557</td> <td>   -1.495</td> <td>    2.775</td>\n",
       "</tr>\n",
       "<tr>\n",
       "  <th>OWN</th>       <td>    0.2289</td> <td>    1.070</td> <td>    0.214</td> <td> 0.831</td> <td>   -1.869</td> <td>    2.326</td>\n",
       "</tr>\n",
       "<tr>\n",
       "  <th>RENT</th>      <td>    0.2796</td> <td>    1.069</td> <td>    0.261</td> <td> 0.794</td> <td>   -1.816</td> <td>    2.375</td>\n",
       "</tr>\n",
       "<tr>\n",
       "  <th>intercept</th> <td>   -1.9459</td> <td>    1.069</td> <td>   -1.820</td> <td> 0.069</td> <td>   -4.041</td> <td>    0.149</td>\n",
       "</tr>\n",
       "</table>"
      ],
      "text/plain": [
       "<class 'statsmodels.iolib.summary.Summary'>\n",
       "\"\"\"\n",
       "                           Logit Regression Results                           \n",
       "==============================================================================\n",
       "Dep. Variable:            loan_status   No. Observations:                42535\n",
       "Model:                          Logit   Df Residuals:                    42530\n",
       "Method:                           MLE   Df Model:                            4\n",
       "Date:                Tue, 17 Jul 2018   Pseudo R-squ.:               0.0006844\n",
       "Time:                        19:06:46   Log-Likelihood:                -18055.\n",
       "converged:                       True   LL-Null:                       -18068.\n",
       "                                        LLR p-value:                 5.695e-05\n",
       "==============================================================================\n",
       "                 coef    std err          z      P>|z|      [0.025      0.975]\n",
       "------------------------------------------------------------------------------\n",
       "MORTGAGE       0.1501      1.069      0.140      0.888      -1.946       2.246\n",
       "OTHER          0.6404      1.089      0.588      0.557      -1.495       2.775\n",
       "OWN            0.2289      1.070      0.214      0.831      -1.869       2.326\n",
       "RENT           0.2796      1.069      0.261      0.794      -1.816       2.375\n",
       "intercept     -1.9459      1.069     -1.820      0.069      -4.041       0.149\n",
       "==============================================================================\n",
       "\"\"\""
      ]
     },
     "execution_count": 59,
     "metadata": {},
     "output_type": "execute_result"
    }
   ],
   "source": [
    "df_ind = pd.get_dummies(df['home_ownership'])\n",
    "df_ind['intercept'] = 1\n",
    "df_ind['loan_status'] = df.loan_status\n",
    "\n",
    "logit = sm.Logit(df_ind['loan_status'], df_ind [['MORTGAGE', 'OTHER', 'OWN', 'RENT', 'intercept']] )\n",
    "result = logit.fit() \n",
    "result.summary()"
   ]
  },
  {
   "cell_type": "markdown",
   "metadata": {},
   "source": [
    "The p-value is below 0.05 so I can reject the null hypothesis."
   ]
  },
  {
   "cell_type": "markdown",
   "metadata": {},
   "source": [
    "## Annual Income\n",
    "**H0**: There is no difference between default rates and a borrower's annual income<br>\n",
    "**H1**: There is a difference between default rates and  borrower's annual income"
   ]
  },
  {
   "cell_type": "code",
   "execution_count": 54,
   "metadata": {},
   "outputs": [
    {
     "data": {
      "text/html": [
       "<div>\n",
       "<style>\n",
       "    .dataframe thead tr:only-child th {\n",
       "        text-align: right;\n",
       "    }\n",
       "\n",
       "    .dataframe thead th {\n",
       "        text-align: left;\n",
       "    }\n",
       "\n",
       "    .dataframe tbody tr th {\n",
       "        vertical-align: top;\n",
       "    }\n",
       "</style>\n",
       "<table border=\"1\" class=\"dataframe\">\n",
       "  <thead>\n",
       "    <tr style=\"text-align: right;\">\n",
       "      <th></th>\n",
       "      <th>mean</th>\n",
       "      <th>std</th>\n",
       "    </tr>\n",
       "    <tr>\n",
       "      <th>loan_status</th>\n",
       "      <th></th>\n",
       "      <th></th>\n",
       "    </tr>\n",
       "  </thead>\n",
       "  <tbody>\n",
       "    <tr>\n",
       "      <th>0</th>\n",
       "      <td>70164.277724</td>\n",
       "      <td>66280.247602</td>\n",
       "    </tr>\n",
       "    <tr>\n",
       "      <th>1</th>\n",
       "      <td>63366.870530</td>\n",
       "      <td>49684.103432</td>\n",
       "    </tr>\n",
       "  </tbody>\n",
       "</table>\n",
       "</div>"
      ],
      "text/plain": [
       "                     mean           std\n",
       "loan_status                            \n",
       "0            70164.277724  66280.247602\n",
       "1            63366.870530  49684.103432"
      ]
     },
     "execution_count": 54,
     "metadata": {},
     "output_type": "execute_result"
    },
    {
     "data": {
      "image/png": "[encoded data removed]",
      "text/plain": [
       "<matplotlib.figure.Figure at 0x11d435ac8>"
      ]
     },
     "metadata": {},
     "output_type": "display_data"
    }
   ],
   "source": [
    "df.boxplot(column=['annual_inc'],by = ['loan_status']).set_yscale('log')\n",
    "pd.DataFrame(df.groupby( ['loan_status'])['annual_inc'].describe().loc[:,['mean','std']])"
   ]
  },
  {
   "cell_type": "code",
   "execution_count": 48,
   "metadata": {},
   "outputs": [
    {
     "data": {
      "text/plain": [
       "Ttest_indResult(statistic=7.841202646289811, pvalue=4.5659583514162483e-15)"
      ]
     },
     "execution_count": 48,
     "metadata": {},
     "output_type": "execute_result"
    }
   ],
   "source": [
    "val1 = df.annual_inc[df.loan_status == 0]\n",
    "val2 = df.annual_inc[df.loan_status == 1]\n",
    "stats.ttest_ind(val1, val2)"
   ]
  },
  {
   "cell_type": "markdown",
   "metadata": {},
   "source": [
    "The p-value for annual income is below 0.05 so I can reject the null hypothesis"
   ]
  },
  {
   "cell_type": "markdown",
   "metadata": {},
   "source": [
    "## Issued Month\n",
    "**H0**: There is no difference between default rates and the month the loan was issued<br>\n",
    "**H1**: There is a difference between default rates and the month the loan was issued"
   ]
  },
  {
   "cell_type": "code",
   "execution_count": 49,
   "metadata": {},
   "outputs": [
    {
     "name": "stdout",
     "output_type": "stream",
     "text": [
      "Optimization terminated successfully.\n",
      "         Current function value: 0.424498\n",
      "         Iterations 6\n"
     ]
    },
    {
     "data": {
      "text/html": [
       "<table class=\"simpletable\">\n",
       "<caption>Logit Regression Results</caption>\n",
       "<tr>\n",
       "  <th>Dep. Variable:</th>    <td>loan_status</td>   <th>  No. Observations:  </th>  <td> 42535</td>  \n",
       "</tr>\n",
       "<tr>\n",
       "  <th>Model:</th>               <td>Logit</td>      <th>  Df Residuals:      </th>  <td> 42523</td>  \n",
       "</tr>\n",
       "<tr>\n",
       "  <th>Method:</th>               <td>MLE</td>       <th>  Df Model:          </th>  <td>    11</td>  \n",
       "</tr>\n",
       "<tr>\n",
       "  <th>Date:</th>          <td>Tue, 17 Jul 2018</td> <th>  Pseudo R-squ.:     </th> <td>0.0006478</td>\n",
       "</tr>\n",
       "<tr>\n",
       "  <th>Time:</th>              <td>17:53:05</td>     <th>  Log-Likelihood:    </th> <td> -18056.</td> \n",
       "</tr>\n",
       "<tr>\n",
       "  <th>converged:</th>           <td>True</td>       <th>  LL-Null:           </th> <td> -18068.</td> \n",
       "</tr>\n",
       "<tr>\n",
       "  <th> </th>                      <td> </td>        <th>  LLR p-value:       </th>  <td>0.01547</td> \n",
       "</tr>\n",
       "</table>\n",
       "<table class=\"simpletable\">\n",
       "<tr>\n",
       "      <td></td>         <th>coef</th>     <th>std err</th>      <th>z</th>      <th>P>|z|</th>  <th>[0.025</th>    <th>0.975]</th>  \n",
       "</tr>\n",
       "<tr>\n",
       "  <th>Aug</th>       <td>   -0.0086</td> <td>    0.070</td> <td>   -0.123</td> <td> 0.902</td> <td>   -0.146</td> <td>    0.129</td>\n",
       "</tr>\n",
       "<tr>\n",
       "  <th>Dec</th>       <td>    0.1426</td> <td>    0.065</td> <td>    2.183</td> <td> 0.029</td> <td>    0.015</td> <td>    0.271</td>\n",
       "</tr>\n",
       "<tr>\n",
       "  <th>Feb</th>       <td>   -0.0685</td> <td>    0.078</td> <td>   -0.884</td> <td> 0.377</td> <td>   -0.221</td> <td>    0.083</td>\n",
       "</tr>\n",
       "<tr>\n",
       "  <th>Jan</th>       <td>    0.0970</td> <td>    0.075</td> <td>    1.295</td> <td> 0.195</td> <td>   -0.050</td> <td>    0.244</td>\n",
       "</tr>\n",
       "<tr>\n",
       "  <th>Jul</th>       <td>    0.0266</td> <td>    0.070</td> <td>    0.381</td> <td> 0.703</td> <td>   -0.110</td> <td>    0.163</td>\n",
       "</tr>\n",
       "<tr>\n",
       "  <th>Jun</th>       <td>    0.1225</td> <td>    0.070</td> <td>    1.762</td> <td> 0.078</td> <td>   -0.014</td> <td>    0.259</td>\n",
       "</tr>\n",
       "<tr>\n",
       "  <th>Mar</th>       <td>    0.0033</td> <td>    0.074</td> <td>    0.045</td> <td> 0.964</td> <td>   -0.141</td> <td>    0.147</td>\n",
       "</tr>\n",
       "<tr>\n",
       "  <th>May</th>       <td>    0.1496</td> <td>    0.071</td> <td>    2.112</td> <td> 0.035</td> <td>    0.011</td> <td>    0.288</td>\n",
       "</tr>\n",
       "<tr>\n",
       "  <th>Nov</th>       <td>    0.1059</td> <td>    0.066</td> <td>    1.597</td> <td> 0.110</td> <td>   -0.024</td> <td>    0.236</td>\n",
       "</tr>\n",
       "<tr>\n",
       "  <th>Oct</th>       <td>    0.1205</td> <td>    0.067</td> <td>    1.799</td> <td> 0.072</td> <td>   -0.011</td> <td>    0.252</td>\n",
       "</tr>\n",
       "<tr>\n",
       "  <th>Sep</th>       <td>    0.1095</td> <td>    0.068</td> <td>    1.607</td> <td> 0.108</td> <td>   -0.024</td> <td>    0.243</td>\n",
       "</tr>\n",
       "<tr>\n",
       "  <th>intercept</th> <td>   -1.8002</td> <td>    0.052</td> <td>  -34.781</td> <td> 0.000</td> <td>   -1.902</td> <td>   -1.699</td>\n",
       "</tr>\n",
       "</table>"
      ],
      "text/plain": [
       "<class 'statsmodels.iolib.summary.Summary'>\n",
       "\"\"\"\n",
       "                           Logit Regression Results                           \n",
       "==============================================================================\n",
       "Dep. Variable:            loan_status   No. Observations:                42535\n",
       "Model:                          Logit   Df Residuals:                    42523\n",
       "Method:                           MLE   Df Model:                           11\n",
       "Date:                Tue, 17 Jul 2018   Pseudo R-squ.:               0.0006478\n",
       "Time:                        17:53:05   Log-Likelihood:                -18056.\n",
       "converged:                       True   LL-Null:                       -18068.\n",
       "                                        LLR p-value:                   0.01547\n",
       "==============================================================================\n",
       "                 coef    std err          z      P>|z|      [0.025      0.975]\n",
       "------------------------------------------------------------------------------\n",
       "Aug           -0.0086      0.070     -0.123      0.902      -0.146       0.129\n",
       "Dec            0.1426      0.065      2.183      0.029       0.015       0.271\n",
       "Feb           -0.0685      0.078     -0.884      0.377      -0.221       0.083\n",
       "Jan            0.0970      0.075      1.295      0.195      -0.050       0.244\n",
       "Jul            0.0266      0.070      0.381      0.703      -0.110       0.163\n",
       "Jun            0.1225      0.070      1.762      0.078      -0.014       0.259\n",
       "Mar            0.0033      0.074      0.045      0.964      -0.141       0.147\n",
       "May            0.1496      0.071      2.112      0.035       0.011       0.288\n",
       "Nov            0.1059      0.066      1.597      0.110      -0.024       0.236\n",
       "Oct            0.1205      0.067      1.799      0.072      -0.011       0.252\n",
       "Sep            0.1095      0.068      1.607      0.108      -0.024       0.243\n",
       "intercept     -1.8002      0.052    -34.781      0.000      -1.902      -1.699\n",
       "==============================================================================\n",
       "\"\"\""
      ]
     },
     "execution_count": 49,
     "metadata": {},
     "output_type": "execute_result"
    }
   ],
   "source": [
    "df_ind = pd.get_dummies(df['issue_month'])\n",
    "df_ind['intercept'] = 1\n",
    "df_ind['loan_status'] = df.loan_status\n",
    "\n",
    "logit = sm.Logit(df_ind['loan_status'], df_ind [['Aug', 'Dec',  'Feb', 'Jan', 'Jul', 'Jun', 'Mar', 'May', \n",
    "                                                 'Nov', 'Oct', 'Sep','intercept']] )\n",
    "result = logit.fit() \n",
    "result.summary()"
   ]
  },
  {
   "cell_type": "markdown",
   "metadata": {},
   "source": [
    "The p-value is 0.02 which is below 0.05 and I can reject the null hypothesis"
   ]
  },
  {
   "cell_type": "markdown",
   "metadata": {},
   "source": [
    "## Purpose"
   ]
  },
  {
   "cell_type": "markdown",
   "metadata": {},
   "source": [
    "**H0**: There is no difference between default rates and the purpose of the loan<br>\n",
    "**H1**: There is a difference between default rates and the purpose of the loan"
   ]
  },
  {
   "cell_type": "code",
   "execution_count": 50,
   "metadata": {},
   "outputs": [
    {
     "name": "stdout",
     "output_type": "stream",
     "text": [
      "Optimization terminated successfully.\n",
      "         Current function value: 0.420097\n",
      "         Iterations 6\n"
     ]
    },
    {
     "data": {
      "text/html": [
       "<table class=\"simpletable\">\n",
       "<caption>Logit Regression Results</caption>\n",
       "<tr>\n",
       "  <th>Dep. Variable:</th>    <td>loan_status</td>   <th>  No. Observations:  </th>  <td> 42535</td>  \n",
       "</tr>\n",
       "<tr>\n",
       "  <th>Model:</th>               <td>Logit</td>      <th>  Df Residuals:      </th>  <td> 42521</td>  \n",
       "</tr>\n",
       "<tr>\n",
       "  <th>Method:</th>               <td>MLE</td>       <th>  Df Model:          </th>  <td>    13</td>  \n",
       "</tr>\n",
       "<tr>\n",
       "  <th>Date:</th>          <td>Tue, 17 Jul 2018</td> <th>  Pseudo R-squ.:     </th>  <td>0.01101</td> \n",
       "</tr>\n",
       "<tr>\n",
       "  <th>Time:</th>              <td>17:53:06</td>     <th>  Log-Likelihood:    </th> <td> -17869.</td> \n",
       "</tr>\n",
       "<tr>\n",
       "  <th>converged:</th>           <td>True</td>       <th>  LL-Null:           </th> <td> -18068.</td> \n",
       "</tr>\n",
       "<tr>\n",
       "  <th> </th>                      <td> </td>        <th>  LLR p-value:       </th> <td>6.579e-77</td>\n",
       "</tr>\n",
       "</table>\n",
       "<table class=\"simpletable\">\n",
       "<tr>\n",
       "           <td></td>             <th>coef</th>     <th>std err</th>      <th>z</th>      <th>P>|z|</th>  <th>[0.025</th>    <th>0.975]</th>  \n",
       "</tr>\n",
       "<tr>\n",
       "  <th>credit_card</th>        <td>    0.0566</td> <td>    0.091</td> <td>    0.621</td> <td> 0.535</td> <td>   -0.122</td> <td>    0.235</td>\n",
       "</tr>\n",
       "<tr>\n",
       "  <th>debt_consolidation</th> <td>    0.4318</td> <td>    0.083</td> <td>    5.214</td> <td> 0.000</td> <td>    0.269</td> <td>    0.594</td>\n",
       "</tr>\n",
       "<tr>\n",
       "  <th>educational</th>        <td>    0.7867</td> <td>    0.144</td> <td>    5.451</td> <td> 0.000</td> <td>    0.504</td> <td>    1.070</td>\n",
       "</tr>\n",
       "<tr>\n",
       "  <th>home_improvement</th>   <td>    0.2364</td> <td>    0.096</td> <td>    2.464</td> <td> 0.014</td> <td>    0.048</td> <td>    0.424</td>\n",
       "</tr>\n",
       "<tr>\n",
       "  <th>house</th>              <td>    0.4941</td> <td>    0.154</td> <td>    3.218</td> <td> 0.001</td> <td>    0.193</td> <td>    0.795</td>\n",
       "</tr>\n",
       "<tr>\n",
       "  <th>major_purchase</th>     <td>   -0.0116</td> <td>    0.105</td> <td>   -0.111</td> <td> 0.912</td> <td>   -0.218</td> <td>    0.194</td>\n",
       "</tr>\n",
       "<tr>\n",
       "  <th>medical</th>            <td>    0.5348</td> <td>    0.126</td> <td>    4.243</td> <td> 0.000</td> <td>    0.288</td> <td>    0.782</td>\n",
       "</tr>\n",
       "<tr>\n",
       "  <th>moving</th>             <td>    0.5357</td> <td>    0.133</td> <td>    4.022</td> <td> 0.000</td> <td>    0.275</td> <td>    0.797</td>\n",
       "</tr>\n",
       "<tr>\n",
       "  <th>other</th>              <td>    0.5440</td> <td>    0.090</td> <td>    6.058</td> <td> 0.000</td> <td>    0.368</td> <td>    0.720</td>\n",
       "</tr>\n",
       "<tr>\n",
       "  <th>renewable_energy</th>   <td>    0.6619</td> <td>    0.261</td> <td>    2.536</td> <td> 0.011</td> <td>    0.150</td> <td>    1.173</td>\n",
       "</tr>\n",
       "<tr>\n",
       "  <th>small_business</th>     <td>    1.1591</td> <td>    0.095</td> <td>   12.230</td> <td> 0.000</td> <td>    0.973</td> <td>    1.345</td>\n",
       "</tr>\n",
       "<tr>\n",
       "  <th>vacation</th>           <td>    0.3661</td> <td>    0.162</td> <td>    2.255</td> <td> 0.024</td> <td>    0.048</td> <td>    0.684</td>\n",
       "</tr>\n",
       "<tr>\n",
       "  <th>wedding</th>            <td>    0.0150</td> <td>    0.129</td> <td>    0.116</td> <td> 0.908</td> <td>   -0.239</td> <td>    0.269</td>\n",
       "</tr>\n",
       "<tr>\n",
       "  <th>intercept</th>          <td>   -2.1205</td> <td>    0.080</td> <td>  -26.355</td> <td> 0.000</td> <td>   -2.278</td> <td>   -1.963</td>\n",
       "</tr>\n",
       "</table>"
      ],
      "text/plain": [
       "<class 'statsmodels.iolib.summary.Summary'>\n",
       "\"\"\"\n",
       "                           Logit Regression Results                           \n",
       "==============================================================================\n",
       "Dep. Variable:            loan_status   No. Observations:                42535\n",
       "Model:                          Logit   Df Residuals:                    42521\n",
       "Method:                           MLE   Df Model:                           13\n",
       "Date:                Tue, 17 Jul 2018   Pseudo R-squ.:                 0.01101\n",
       "Time:                        17:53:06   Log-Likelihood:                -17869.\n",
       "converged:                       True   LL-Null:                       -18068.\n",
       "                                        LLR p-value:                 6.579e-77\n",
       "======================================================================================\n",
       "                         coef    std err          z      P>|z|      [0.025      0.975]\n",
       "--------------------------------------------------------------------------------------\n",
       "credit_card            0.0566      0.091      0.621      0.535      -0.122       0.235\n",
       "debt_consolidation     0.4318      0.083      5.214      0.000       0.269       0.594\n",
       "educational            0.7867      0.144      5.451      0.000       0.504       1.070\n",
       "home_improvement       0.2364      0.096      2.464      0.014       0.048       0.424\n",
       "house                  0.4941      0.154      3.218      0.001       0.193       0.795\n",
       "major_purchase        -0.0116      0.105     -0.111      0.912      -0.218       0.194\n",
       "medical                0.5348      0.126      4.243      0.000       0.288       0.782\n",
       "moving                 0.5357      0.133      4.022      0.000       0.275       0.797\n",
       "other                  0.5440      0.090      6.058      0.000       0.368       0.720\n",
       "renewable_energy       0.6619      0.261      2.536      0.011       0.150       1.173\n",
       "small_business         1.1591      0.095     12.230      0.000       0.973       1.345\n",
       "vacation               0.3661      0.162      2.255      0.024       0.048       0.684\n",
       "wedding                0.0150      0.129      0.116      0.908      -0.239       0.269\n",
       "intercept             -2.1205      0.080    -26.355      0.000      -2.278      -1.963\n",
       "======================================================================================\n",
       "\"\"\""
      ]
     },
     "execution_count": 50,
     "metadata": {},
     "output_type": "execute_result"
    }
   ],
   "source": [
    "df_ind = pd.get_dummies(df['purpose'])\n",
    "df_ind['intercept'] = 1\n",
    "df_ind['loan_status'] = df['loan_status'] \n",
    "\n",
    "df_ind= df_ind.fillna(0) \n",
    "\n",
    "logit = sm.Logit(df_ind['loan_status'], df_ind [['credit_card', 'debt_consolidation',  'educational', \n",
    "                                                  'home_improvement',  'house',  'major_purchase',  'medical', \n",
    "                                                  'moving',  'other',  'renewable_energy', 'small_business', 'vacation',\n",
    "                                                 'wedding', 'intercept']] )\n",
    "result = logit.fit() \n",
    "\n",
    "result.summary()"
   ]
  },
  {
   "cell_type": "markdown",
   "metadata": {},
   "source": [
    "The p-value is below 0.05 so I can reject the null hypothesis"
   ]
  },
  {
   "cell_type": "markdown",
   "metadata": {},
   "source": [
    "## State of Residence\n",
    "**H0**: There is no difference between default rates and a borrower's state of residence<br>\n",
    "**H1**: There is a difference between default rates and a borrower's state of residence"
   ]
  },
  {
   "cell_type": "code",
   "execution_count": 51,
   "metadata": {},
   "outputs": [
    {
     "name": "stdout",
     "output_type": "stream",
     "text": [
      "Optimization terminated successfully.\n",
      "         Current function value: 0.422669\n",
      "         Iterations 17\n"
     ]
    },
    {
     "data": {
      "text/html": [
       "<table class=\"simpletable\">\n",
       "<caption>Logit Regression Results</caption>\n",
       "<tr>\n",
       "  <th>Dep. Variable:</th>    <td>loan_status</td>   <th>  No. Observations:  </th>  <td> 42535</td>  \n",
       "</tr>\n",
       "<tr>\n",
       "  <th>Model:</th>               <td>Logit</td>      <th>  Df Residuals:      </th>  <td> 42485</td>  \n",
       "</tr>\n",
       "<tr>\n",
       "  <th>Method:</th>               <td>MLE</td>       <th>  Df Model:          </th>  <td>    49</td>  \n",
       "</tr>\n",
       "<tr>\n",
       "  <th>Date:</th>          <td>Tue, 17 Jul 2018</td> <th>  Pseudo R-squ.:     </th> <td>0.004953</td> \n",
       "</tr>\n",
       "<tr>\n",
       "  <th>Time:</th>              <td>17:53:07</td>     <th>  Log-Likelihood:    </th> <td> -17978.</td> \n",
       "</tr>\n",
       "<tr>\n",
       "  <th>converged:</th>           <td>True</td>       <th>  LL-Null:           </th> <td> -18068.</td> \n",
       "</tr>\n",
       "<tr>\n",
       "  <th> </th>                      <td> </td>        <th>  LLR p-value:       </th> <td>1.070e-16</td>\n",
       "</tr>\n",
       "</table>\n",
       "<table class=\"simpletable\">\n",
       "<tr>\n",
       "      <td></td>         <th>coef</th>     <th>std err</th>      <th>z</th>      <th>P>|z|</th>  <th>[0.025</th>    <th>0.975]</th>  \n",
       "</tr>\n",
       "<tr>\n",
       "  <th>AL</th>        <td>   -0.5170</td> <td>    0.303</td> <td>   -1.706</td> <td> 0.088</td> <td>   -1.111</td> <td>    0.077</td>\n",
       "</tr>\n",
       "<tr>\n",
       "  <th>AR</th>        <td>   -0.4977</td> <td>    0.327</td> <td>   -1.521</td> <td> 0.128</td> <td>   -1.139</td> <td>    0.144</td>\n",
       "</tr>\n",
       "<tr>\n",
       "  <th>AZ</th>        <td>   -0.3083</td> <td>    0.286</td> <td>   -1.079</td> <td> 0.280</td> <td>   -0.868</td> <td>    0.251</td>\n",
       "</tr>\n",
       "<tr>\n",
       "  <th>CA</th>        <td>   -0.2145</td> <td>    0.273</td> <td>   -0.787</td> <td> 0.431</td> <td>   -0.749</td> <td>    0.320</td>\n",
       "</tr>\n",
       "<tr>\n",
       "  <th>CO</th>        <td>   -0.5043</td> <td>    0.289</td> <td>   -1.743</td> <td> 0.081</td> <td>   -1.071</td> <td>    0.063</td>\n",
       "</tr>\n",
       "<tr>\n",
       "  <th>CT</th>        <td>   -0.5009</td> <td>    0.290</td> <td>   -1.727</td> <td> 0.084</td> <td>   -1.070</td> <td>    0.068</td>\n",
       "</tr>\n",
       "<tr>\n",
       "  <th>DC</th>        <td>   -1.0986</td> <td>    0.370</td> <td>   -2.968</td> <td> 0.003</td> <td>   -1.824</td> <td>   -0.373</td>\n",
       "</tr>\n",
       "<tr>\n",
       "  <th>DE</th>        <td>   -0.6140</td> <td>    0.380</td> <td>   -1.617</td> <td> 0.106</td> <td>   -1.358</td> <td>    0.130</td>\n",
       "</tr>\n",
       "<tr>\n",
       "  <th>FL</th>        <td>   -0.0676</td> <td>    0.275</td> <td>   -0.246</td> <td> 0.806</td> <td>   -0.606</td> <td>    0.471</td>\n",
       "</tr>\n",
       "<tr>\n",
       "  <th>GA</th>        <td>   -0.2109</td> <td>    0.279</td> <td>   -0.755</td> <td> 0.450</td> <td>   -0.759</td> <td>    0.337</td>\n",
       "</tr>\n",
       "<tr>\n",
       "  <th>HI</th>        <td>   -0.2152</td> <td>    0.337</td> <td>   -0.639</td> <td> 0.523</td> <td>   -0.875</td> <td>    0.444</td>\n",
       "</tr>\n",
       "<tr>\n",
       "  <th>IA</th>        <td>   -0.2085</td> <td>    0.821</td> <td>   -0.254</td> <td> 0.799</td> <td>   -1.817</td> <td>    1.400</td>\n",
       "</tr>\n",
       "<tr>\n",
       "  <th>ID</th>        <td>   -0.6785</td> <td>    1.095</td> <td>   -0.620</td> <td> 0.535</td> <td>   -2.824</td> <td>    1.467</td>\n",
       "</tr>\n",
       "<tr>\n",
       "  <th>IL</th>        <td>   -0.4148</td> <td>    0.280</td> <td>   -1.482</td> <td> 0.138</td> <td>   -0.963</td> <td>    0.134</td>\n",
       "</tr>\n",
       "<tr>\n",
       "  <th>IN</th>        <td>    0.8619</td> <td>    0.547</td> <td>    1.575</td> <td> 0.115</td> <td>   -0.211</td> <td>    1.935</td>\n",
       "</tr>\n",
       "<tr>\n",
       "  <th>KS</th>        <td>   -0.5839</td> <td>    0.324</td> <td>   -1.803</td> <td> 0.071</td> <td>   -1.219</td> <td>    0.051</td>\n",
       "</tr>\n",
       "<tr>\n",
       "  <th>KY</th>        <td>   -0.3088</td> <td>    0.308</td> <td>   -1.003</td> <td> 0.316</td> <td>   -0.912</td> <td>    0.295</td>\n",
       "</tr>\n",
       "<tr>\n",
       "  <th>LA</th>        <td>   -0.5376</td> <td>    0.305</td> <td>   -1.762</td> <td> 0.078</td> <td>   -1.135</td> <td>    0.060</td>\n",
       "</tr>\n",
       "<tr>\n",
       "  <th>MA</th>        <td>   -0.5120</td> <td>    0.282</td> <td>   -1.816</td> <td> 0.069</td> <td>   -1.065</td> <td>    0.041</td>\n",
       "</tr>\n",
       "<tr>\n",
       "  <th>MD</th>        <td>   -0.2182</td> <td>    0.282</td> <td>   -0.773</td> <td> 0.440</td> <td>   -0.772</td> <td>    0.335</td>\n",
       "</tr>\n",
       "<tr>\n",
       "  <th>ME</th>        <td> -126.0556</td> <td> 2.74e+27</td> <td> -4.6e-26</td> <td> 1.000</td> <td>-5.38e+27</td> <td> 5.38e+27</td>\n",
       "</tr>\n",
       "<tr>\n",
       "  <th>MI</th>        <td>   -0.2987</td> <td>    0.288</td> <td>   -1.037</td> <td> 0.300</td> <td>   -0.863</td> <td>    0.266</td>\n",
       "</tr>\n",
       "<tr>\n",
       "  <th>MN</th>        <td>   -0.4053</td> <td>    0.293</td> <td>   -1.382</td> <td> 0.167</td> <td>   -0.980</td> <td>    0.169</td>\n",
       "</tr>\n",
       "<tr>\n",
       "  <th>MO</th>        <td>   -0.0952</td> <td>    0.286</td> <td>   -0.332</td> <td> 0.740</td> <td>   -0.657</td> <td>    0.466</td>\n",
       "</tr>\n",
       "<tr>\n",
       "  <th>MS</th>        <td>    0.1969</td> <td>    0.539</td> <td>    0.366</td> <td> 0.715</td> <td>   -0.859</td> <td>    1.252</td>\n",
       "</tr>\n",
       "<tr>\n",
       "  <th>MT</th>        <td>   -0.1353</td> <td>    0.381</td> <td>   -0.356</td> <td> 0.722</td> <td>   -0.881</td> <td>    0.610</td>\n",
       "</tr>\n",
       "<tr>\n",
       "  <th>NC</th>        <td>   -0.3196</td> <td>    0.288</td> <td>   -1.112</td> <td> 0.266</td> <td>   -0.883</td> <td>    0.244</td>\n",
       "</tr>\n",
       "<tr>\n",
       "  <th>NE</th>        <td>    1.5832</td> <td>    0.663</td> <td>    2.387</td> <td> 0.017</td> <td>    0.283</td> <td>    2.883</td>\n",
       "</tr>\n",
       "<tr>\n",
       "  <th>NH</th>        <td>   -0.3847</td> <td>    0.341</td> <td>   -1.127</td> <td> 0.260</td> <td>   -1.054</td> <td>    0.284</td>\n",
       "</tr>\n",
       "<tr>\n",
       "  <th>NJ</th>        <td>   -0.2956</td> <td>    0.278</td> <td>   -1.064</td> <td> 0.287</td> <td>   -0.840</td> <td>    0.249</td>\n",
       "</tr>\n",
       "<tr>\n",
       "  <th>NM</th>        <td>   -0.2501</td> <td>    0.331</td> <td>   -0.756</td> <td> 0.450</td> <td>   -0.898</td> <td>    0.398</td>\n",
       "</tr>\n",
       "<tr>\n",
       "  <th>NV</th>        <td>    0.2328</td> <td>    0.289</td> <td>    0.804</td> <td> 0.421</td> <td>   -0.335</td> <td>    0.800</td>\n",
       "</tr>\n",
       "<tr>\n",
       "  <th>NY</th>        <td>   -0.4373</td> <td>    0.275</td> <td>   -1.592</td> <td> 0.111</td> <td>   -0.975</td> <td>    0.101</td>\n",
       "</tr>\n",
       "<tr>\n",
       "  <th>OH</th>        <td>   -0.4919</td> <td>    0.283</td> <td>   -1.740</td> <td> 0.082</td> <td>   -1.046</td> <td>    0.062</td>\n",
       "</tr>\n",
       "<tr>\n",
       "  <th>OK</th>        <td>   -0.4244</td> <td>    0.316</td> <td>   -1.344</td> <td> 0.179</td> <td>   -1.043</td> <td>    0.194</td>\n",
       "</tr>\n",
       "<tr>\n",
       "  <th>OR</th>        <td>   -0.2240</td> <td>    0.298</td> <td>   -0.751</td> <td> 0.452</td> <td>   -0.808</td> <td>    0.360</td>\n",
       "</tr>\n",
       "<tr>\n",
       "  <th>PA</th>        <td>   -0.4456</td> <td>    0.280</td> <td>   -1.591</td> <td> 0.112</td> <td>   -0.995</td> <td>    0.103</td>\n",
       "</tr>\n",
       "<tr>\n",
       "  <th>RI</th>        <td>   -0.5018</td> <td>    0.340</td> <td>   -1.474</td> <td> 0.140</td> <td>   -1.169</td> <td>    0.165</td>\n",
       "</tr>\n",
       "<tr>\n",
       "  <th>SC</th>        <td>   -0.3885</td> <td>    0.300</td> <td>   -1.295</td> <td> 0.195</td> <td>   -0.976</td> <td>    0.199</td>\n",
       "</tr>\n",
       "<tr>\n",
       "  <th>SD</th>        <td>   -0.0231</td> <td>    0.411</td> <td>   -0.056</td> <td> 0.955</td> <td>   -0.828</td> <td>    0.782</td>\n",
       "</tr>\n",
       "<tr>\n",
       "  <th>TN</th>        <td>   -0.0654</td> <td>    0.528</td> <td>   -0.124</td> <td> 0.901</td> <td>   -1.100</td> <td>    0.969</td>\n",
       "</tr>\n",
       "<tr>\n",
       "  <th>TX</th>        <td>   -0.5060</td> <td>    0.276</td> <td>   -1.831</td> <td> 0.067</td> <td>   -1.048</td> <td>    0.036</td>\n",
       "</tr>\n",
       "<tr>\n",
       "  <th>UT</th>        <td>   -0.2172</td> <td>    0.315</td> <td>   -0.689</td> <td> 0.491</td> <td>   -0.835</td> <td>    0.401</td>\n",
       "</tr>\n",
       "<tr>\n",
       "  <th>VA</th>        <td>   -0.4960</td> <td>    0.282</td> <td>   -1.762</td> <td> 0.078</td> <td>   -1.048</td> <td>    0.056</td>\n",
       "</tr>\n",
       "<tr>\n",
       "  <th>VT</th>        <td>   -0.5652</td> <td>    0.486</td> <td>   -1.163</td> <td> 0.245</td> <td>   -1.518</td> <td>    0.387</td>\n",
       "</tr>\n",
       "<tr>\n",
       "  <th>WA</th>        <td>   -0.2496</td> <td>    0.286</td> <td>   -0.874</td> <td> 0.382</td> <td>   -0.810</td> <td>    0.310</td>\n",
       "</tr>\n",
       "<tr>\n",
       "  <th>WI</th>        <td>   -0.3398</td> <td>    0.298</td> <td>   -1.142</td> <td> 0.254</td> <td>   -0.923</td> <td>    0.244</td>\n",
       "</tr>\n",
       "<tr>\n",
       "  <th>WV</th>        <td>   -0.5635</td> <td>    0.351</td> <td>   -1.607</td> <td> 0.108</td> <td>   -1.251</td> <td>    0.124</td>\n",
       "</tr>\n",
       "<tr>\n",
       "  <th>WY</th>        <td>   -1.6317</td> <td>    0.579</td> <td>   -2.818</td> <td> 0.005</td> <td>   -2.767</td> <td>   -0.497</td>\n",
       "</tr>\n",
       "<tr>\n",
       "  <th>intercept</th> <td>   -1.4009</td> <td>    0.271</td> <td>   -5.174</td> <td> 0.000</td> <td>   -1.932</td> <td>   -0.870</td>\n",
       "</tr>\n",
       "</table>"
      ],
      "text/plain": [
       "<class 'statsmodels.iolib.summary.Summary'>\n",
       "\"\"\"\n",
       "                           Logit Regression Results                           \n",
       "==============================================================================\n",
       "Dep. Variable:            loan_status   No. Observations:                42535\n",
       "Model:                          Logit   Df Residuals:                    42485\n",
       "Method:                           MLE   Df Model:                           49\n",
       "Date:                Tue, 17 Jul 2018   Pseudo R-squ.:                0.004953\n",
       "Time:                        17:53:07   Log-Likelihood:                -17978.\n",
       "converged:                       True   LL-Null:                       -18068.\n",
       "                                        LLR p-value:                 1.070e-16\n",
       "==============================================================================\n",
       "                 coef    std err          z      P>|z|      [0.025      0.975]\n",
       "------------------------------------------------------------------------------\n",
       "AL            -0.5170      0.303     -1.706      0.088      -1.111       0.077\n",
       "AR            -0.4977      0.327     -1.521      0.128      -1.139       0.144\n",
       "AZ            -0.3083      0.286     -1.079      0.280      -0.868       0.251\n",
       "CA            -0.2145      0.273     -0.787      0.431      -0.749       0.320\n",
       "CO            -0.5043      0.289     -1.743      0.081      -1.071       0.063\n",
       "CT            -0.5009      0.290     -1.727      0.084      -1.070       0.068\n",
       "DC            -1.0986      0.370     -2.968      0.003      -1.824      -0.373\n",
       "DE            -0.6140      0.380     -1.617      0.106      -1.358       0.130\n",
       "FL            -0.0676      0.275     -0.246      0.806      -0.606       0.471\n",
       "GA            -0.2109      0.279     -0.755      0.450      -0.759       0.337\n",
       "HI            -0.2152      0.337     -0.639      0.523      -0.875       0.444\n",
       "IA            -0.2085      0.821     -0.254      0.799      -1.817       1.400\n",
       "ID            -0.6785      1.095     -0.620      0.535      -2.824       1.467\n",
       "IL            -0.4148      0.280     -1.482      0.138      -0.963       0.134\n",
       "IN             0.8619      0.547      1.575      0.115      -0.211       1.935\n",
       "KS            -0.5839      0.324     -1.803      0.071      -1.219       0.051\n",
       "KY            -0.3088      0.308     -1.003      0.316      -0.912       0.295\n",
       "LA            -0.5376      0.305     -1.762      0.078      -1.135       0.060\n",
       "MA            -0.5120      0.282     -1.816      0.069      -1.065       0.041\n",
       "MD            -0.2182      0.282     -0.773      0.440      -0.772       0.335\n",
       "ME          -126.0556   2.74e+27   -4.6e-26      1.000   -5.38e+27    5.38e+27\n",
       "MI            -0.2987      0.288     -1.037      0.300      -0.863       0.266\n",
       "MN            -0.4053      0.293     -1.382      0.167      -0.980       0.169\n",
       "MO            -0.0952      0.286     -0.332      0.740      -0.657       0.466\n",
       "MS             0.1969      0.539      0.366      0.715      -0.859       1.252\n",
       "MT            -0.1353      0.381     -0.356      0.722      -0.881       0.610\n",
       "NC            -0.3196      0.288     -1.112      0.266      -0.883       0.244\n",
       "NE             1.5832      0.663      2.387      0.017       0.283       2.883\n",
       "NH            -0.3847      0.341     -1.127      0.260      -1.054       0.284\n",
       "NJ            -0.2956      0.278     -1.064      0.287      -0.840       0.249\n",
       "NM            -0.2501      0.331     -0.756      0.450      -0.898       0.398\n",
       "NV             0.2328      0.289      0.804      0.421      -0.335       0.800\n",
       "NY            -0.4373      0.275     -1.592      0.111      -0.975       0.101\n",
       "OH            -0.4919      0.283     -1.740      0.082      -1.046       0.062\n",
       "OK            -0.4244      0.316     -1.344      0.179      -1.043       0.194\n",
       "OR            -0.2240      0.298     -0.751      0.452      -0.808       0.360\n",
       "PA            -0.4456      0.280     -1.591      0.112      -0.995       0.103\n",
       "RI            -0.5018      0.340     -1.474      0.140      -1.169       0.165\n",
       "SC            -0.3885      0.300     -1.295      0.195      -0.976       0.199\n",
       "SD            -0.0231      0.411     -0.056      0.955      -0.828       0.782\n",
       "TN            -0.0654      0.528     -0.124      0.901      -1.100       0.969\n",
       "TX            -0.5060      0.276     -1.831      0.067      -1.048       0.036\n",
       "UT            -0.2172      0.315     -0.689      0.491      -0.835       0.401\n",
       "VA            -0.4960      0.282     -1.762      0.078      -1.048       0.056\n",
       "VT            -0.5652      0.486     -1.163      0.245      -1.518       0.387\n",
       "WA            -0.2496      0.286     -0.874      0.382      -0.810       0.310\n",
       "WI            -0.3398      0.298     -1.142      0.254      -0.923       0.244\n",
       "WV            -0.5635      0.351     -1.607      0.108      -1.251       0.124\n",
       "WY            -1.6317      0.579     -2.818      0.005      -2.767      -0.497\n",
       "intercept     -1.4009      0.271     -5.174      0.000      -1.932      -0.870\n",
       "==============================================================================\n",
       "\"\"\""
      ]
     },
     "execution_count": 51,
     "metadata": {},
     "output_type": "execute_result"
    }
   ],
   "source": [
    "df_ind = pd.get_dummies(df['addr_state'])\n",
    "df_ind['intercept'] = 1\n",
    "df_ind['loan_status'] = df['loan_status'] \n",
    "\n",
    "df_ind= df_ind.fillna(0) \n",
    "\n",
    "logit = sm.Logit(df_ind['loan_status'], df_ind [['AL','AR','AZ','CA','CO','CT','DC','DE','FL','GA','HI','IA','ID',\n",
    "                                                 'IL','IN','KS','KY','LA','MA','MD','ME','MI','MN','MO','MS','MT','NC','NE',\n",
    "                                                 'NH','NJ','NM','NV','NY','OH','OK','OR','PA','RI','SC','SD','TN','TX',\n",
    "                                                 'UT','VA','VT','WA','WI','WV','WY','intercept']] )\n",
    "\n",
    "result = logit.fit() \n",
    "\n",
    "result.summary()"
   ]
  },
  {
   "cell_type": "markdown",
   "metadata": {},
   "source": [
    "The p-value is below 0.05 so I can reject the null hypothesis"
   ]
  },
  {
   "cell_type": "markdown",
   "metadata": {},
   "source": [
    "## Debt to Income Ratio\n",
    "**H0**: There is no difference between default rates and a borrower's debt to income ratio<br>\n",
    "**H1**: There is a difference between default rates and a borrower's debt to income ratio"
   ]
  },
  {
   "cell_type": "code",
   "execution_count": 52,
   "metadata": {},
   "outputs": [
    {
     "data": {
      "text/html": [
       "<div>\n",
       "<style>\n",
       "    .dataframe thead tr:only-child th {\n",
       "        text-align: right;\n",
       "    }\n",
       "\n",
       "    .dataframe thead th {\n",
       "        text-align: left;\n",
       "    }\n",
       "\n",
       "    .dataframe tbody tr th {\n",
       "        vertical-align: top;\n",
       "    }\n",
       "</style>\n",
       "<table border=\"1\" class=\"dataframe\">\n",
       "  <thead>\n",
       "    <tr style=\"text-align: right;\">\n",
       "      <th></th>\n",
       "      <th>mean</th>\n",
       "      <th>std</th>\n",
       "    </tr>\n",
       "    <tr>\n",
       "      <th>loan_status</th>\n",
       "      <th></th>\n",
       "      <th></th>\n",
       "    </tr>\n",
       "  </thead>\n",
       "  <tbody>\n",
       "    <tr>\n",
       "      <th>0</th>\n",
       "      <td>13.253252</td>\n",
       "      <td>6.731947</td>\n",
       "    </tr>\n",
       "    <tr>\n",
       "      <th>1</th>\n",
       "      <td>14.045559</td>\n",
       "      <td>6.655208</td>\n",
       "    </tr>\n",
       "  </tbody>\n",
       "</table>\n",
       "</div>"
      ],
      "text/plain": [
       "                  mean       std\n",
       "loan_status                     \n",
       "0            13.253252  6.731947\n",
       "1            14.045559  6.655208"
      ]
     },
     "execution_count": 52,
     "metadata": {},
     "output_type": "execute_result"
    },
    {
     "data": {
      "image/png": "[encoded data removed]",
      "text/plain": [
       "<matplotlib.figure.Figure at 0x11bcb08d0>"
      ]
     },
     "metadata": {},
     "output_type": "display_data"
    }
   ],
   "source": [
    "df.boxplot(column=['dti'],by = ['loan_status']).set_yscale('log')\n",
    "pd.DataFrame(df.groupby( ['loan_status'])['dti'].describe().loc[:,['mean','std']])"
   ]
  },
  {
   "cell_type": "code",
   "execution_count": 53,
   "metadata": {},
   "outputs": [
    {
     "data": {
      "text/plain": [
       "Ttest_indResult(statistic=-8.7104794877852409, pvalue=3.1327064696533274e-18)"
      ]
     },
     "execution_count": 53,
     "metadata": {},
     "output_type": "execute_result"
    }
   ],
   "source": [
    "val1 = df.dti[df.loan_status == 0]\n",
    "val2 = df.dti[df.loan_status == 1]\n",
    "stats.ttest_ind(val1, val2)"
   ]
  },
  {
   "cell_type": "markdown",
   "metadata": {},
   "source": [
    "The p-value is below 0.05 so I can reject the null hypothesis."
   ]
  },
  {
   "cell_type": "markdown",
   "metadata": {},
   "source": [
    "## Conclusions"
   ]
  },
  {
   "cell_type": "markdown",
   "metadata": {},
   "source": [
    "All features appear to significantly correlate to the default status of a loan. I will further examine this relationship during the machina learning unit. "
   ]
  }
 ],
 "metadata": {
  "kernelspec": {
   "display_name": "Python 3",
   "language": "python",
   "name": "python3"
  },
  "language_info": {
   "codemirror_mode": {
    "name": "ipython",
    "version": 3
   },
   "file_extension": ".py",
   "mimetype": "text/x-python",
   "name": "python",
   "nbconvert_exporter": "python",
   "pygments_lexer": "ipython3",
   "version": "3.6.1"
  }
 },
 "nbformat": 4,
 "nbformat_minor": 2
}
