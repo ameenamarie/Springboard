{
 "cells": [
  {
   "cell_type": "markdown",
   "metadata": {},
   "source": [
    "# Data Wrangling\n",
    "\n",
    "The dataset downloaded from Lending Club was relatively clean aside from a high number of empty columns. I removed all but 17 of the columns from the original dataset. The columns removed were either empty, contained mostly null values or were not of interest to the current project.\n",
    "\n",
    "### Import Packages and Dataset"
   ]
  },
  {
   "cell_type": "code",
   "execution_count": 15,
   "metadata": {
    "collapsed": true
   },
   "outputs": [],
   "source": [
    "# Import packages\n",
    "import pandas as pd"
   ]
  },
  {
   "cell_type": "code",
   "execution_count": 16,
   "metadata": {
    "collapsed": true
   },
   "outputs": [],
   "source": [
    "# Import dataframe\n",
    "df = pd.read_csv('LoanStats3a.csv', header = 1, dtype={'next_pymnt_d': object, 'id': object})"
   ]
  },
  {
   "cell_type": "markdown",
   "metadata": {},
   "source": [
    "## Explore the Dataframe\n",
    "\n",
    "First I looked at the dataframe to understand the structure and see what information is missing from the dataset."
   ]
  },
  {
   "cell_type": "code",
   "execution_count": 17,
   "metadata": {
    "scrolled": true
   },
   "outputs": [
    {
     "name": "stdout",
     "output_type": "stream",
     "text": [
      "<class 'pandas.core.frame.DataFrame'>\n",
      "RangeIndex: 42542 entries, 0 to 42541\n",
      "Data columns (total 49 columns):\n",
      "member_id                     0 non-null float64\n",
      "loan_amnt                     42535 non-null float64\n",
      "funded_amnt                   42535 non-null float64\n",
      "funded_amnt_inv               42535 non-null float64\n",
      "term                          42535 non-null object\n",
      "int_rate                      42535 non-null object\n",
      "installment                   42535 non-null float64\n",
      "grade                         42535 non-null object\n",
      "sub_grade                     42535 non-null object\n",
      "emp_title                     39911 non-null object\n",
      "emp_length                    42535 non-null object\n",
      "home_ownership                42535 non-null object\n",
      "annual_inc                    42531 non-null float64\n",
      "verification_status           42535 non-null object\n",
      "issue_d                       42535 non-null object\n",
      "loan_status                   42535 non-null object\n",
      "pymnt_plan                    42535 non-null object\n",
      "url                           0 non-null float64\n",
      "desc                          29243 non-null object\n",
      "purpose                       42535 non-null object\n",
      "title                         42523 non-null object\n",
      "zip_code                      42535 non-null object\n",
      "addr_state                    42535 non-null object\n",
      "dti                           42535 non-null float64\n",
      "delinq_2yrs                   42506 non-null float64\n",
      "earliest_cr_line              42506 non-null object\n",
      "inq_last_6mths                42506 non-null float64\n",
      "mths_since_last_delinq        15609 non-null float64\n",
      "mths_since_last_record        3651 non-null float64\n",
      "open_acc                      42506 non-null float64\n",
      "pub_rec                       42506 non-null float64\n",
      "revol_bal                     42535 non-null float64\n",
      "revol_util                    42445 non-null object\n",
      "total_acc                     42506 non-null float64\n",
      "initial_list_status           42535 non-null object\n",
      "out_prncp                     42535 non-null float64\n",
      "out_prncp_inv                 42535 non-null float64\n",
      "total_pymnt                   42535 non-null float64\n",
      "total_pymnt_inv               42535 non-null float64\n",
      "total_rec_prncp               42535 non-null float64\n",
      "total_rec_int                 42535 non-null float64\n",
      "total_rec_late_fee            42535 non-null float64\n",
      "recoveries                    42535 non-null float64\n",
      "collection_recovery_fee       42535 non-null float64\n",
      "last_pymnt_d                  42452 non-null object\n",
      "last_pymnt_amnt               42535 non-null float64\n",
      "next_pymnt_d                  2749 non-null object\n",
      "last_credit_pull_d            42531 non-null object\n",
      "collections_12_mths_ex_med    42390 non-null float64\n",
      "dtypes: float64(27), object(22)\n",
      "memory usage: 15.9+ MB\n"
     ]
    }
   ],
   "source": [
    "# Print information about the dataframe \n",
    "df.iloc[:, 1:50].info()"
   ]
  },
  {
   "cell_type": "code",
   "execution_count": 18,
   "metadata": {
    "scrolled": true
   },
   "outputs": [
    {
     "name": "stdout",
     "output_type": "stream",
     "text": [
      "<class 'pandas.core.frame.DataFrame'>\n",
      "RangeIndex: 42542 entries, 0 to 42541\n",
      "Data columns (total 49 columns):\n",
      "policy_code                       42535 non-null float64\n",
      "application_type                  42535 non-null object\n",
      "annual_inc_joint                  0 non-null float64\n",
      "dti_joint                         0 non-null float64\n",
      "verification_status_joint         0 non-null float64\n",
      "acc_now_delinq                    42506 non-null float64\n",
      "tot_coll_amt                      0 non-null float64\n",
      "tot_cur_bal                       0 non-null float64\n",
      "open_acc_6m                       0 non-null float64\n",
      "open_act_il                       0 non-null float64\n",
      "open_il_12m                       0 non-null float64\n",
      "open_il_24m                       0 non-null float64\n",
      "mths_since_rcnt_il                0 non-null float64\n",
      "total_bal_il                      0 non-null float64\n",
      "il_util                           0 non-null float64\n",
      "open_rv_12m                       0 non-null float64\n",
      "open_rv_24m                       0 non-null float64\n",
      "max_bal_bc                        0 non-null float64\n",
      "all_util                          0 non-null float64\n",
      "total_rev_hi_lim                  0 non-null float64\n",
      "inq_fi                            0 non-null float64\n",
      "total_cu_tl                       0 non-null float64\n",
      "inq_last_12m                      0 non-null float64\n",
      "acc_open_past_24mths              0 non-null float64\n",
      "avg_cur_bal                       0 non-null float64\n",
      "bc_open_to_buy                    0 non-null float64\n",
      "bc_util                           0 non-null float64\n",
      "chargeoff_within_12_mths          42390 non-null float64\n",
      "delinq_amnt                       42506 non-null float64\n",
      "mo_sin_old_il_acct                0 non-null float64\n",
      "mo_sin_old_rev_tl_op              0 non-null float64\n",
      "mo_sin_rcnt_rev_tl_op             0 non-null float64\n",
      "mo_sin_rcnt_tl                    0 non-null float64\n",
      "mort_acc                          0 non-null float64\n",
      "mths_since_recent_bc              0 non-null float64\n",
      "mths_since_recent_bc_dlq          0 non-null float64\n",
      "mths_since_recent_inq             0 non-null float64\n",
      "mths_since_recent_revol_delinq    0 non-null float64\n",
      "num_accts_ever_120_pd             0 non-null float64\n",
      "num_actv_bc_tl                    0 non-null float64\n",
      "num_actv_rev_tl                   0 non-null float64\n",
      "num_bc_sats                       0 non-null float64\n",
      "num_bc_tl                         0 non-null float64\n",
      "num_il_tl                         0 non-null float64\n",
      "num_op_rev_tl                     0 non-null float64\n",
      "num_rev_accts                     0 non-null float64\n",
      "num_rev_tl_bal_gt_0               0 non-null float64\n",
      "num_sats                          0 non-null float64\n",
      "num_tl_120dpd_2m                  0 non-null float64\n",
      "dtypes: float64(48), object(1)\n",
      "memory usage: 15.9+ MB\n"
     ]
    }
   ],
   "source": [
    "df.iloc[:, 51:100].info()"
   ]
  },
  {
   "cell_type": "code",
   "execution_count": 19,
   "metadata": {
    "scrolled": true
   },
   "outputs": [
    {
     "name": "stdout",
     "output_type": "stream",
     "text": [
      "<class 'pandas.core.frame.DataFrame'>\n",
      "RangeIndex: 42542 entries, 0 to 42541\n",
      "Data columns (total 44 columns):\n",
      "num_tl_90g_dpd_24m                            0 non-null float64\n",
      "num_tl_op_past_12m                            0 non-null float64\n",
      "pct_tl_nvr_dlq                                0 non-null float64\n",
      "percent_bc_gt_75                              0 non-null float64\n",
      "pub_rec_bankruptcies                          41170 non-null float64\n",
      "tax_liens                                     42430 non-null float64\n",
      "tot_hi_cred_lim                               0 non-null float64\n",
      "total_bal_ex_mort                             0 non-null float64\n",
      "total_bc_limit                                0 non-null float64\n",
      "total_il_high_credit_limit                    0 non-null float64\n",
      "revol_bal_joint                               0 non-null float64\n",
      "sec_app_earliest_cr_line                      0 non-null float64\n",
      "sec_app_inq_last_6mths                        0 non-null float64\n",
      "sec_app_mort_acc                              0 non-null float64\n",
      "sec_app_open_acc                              0 non-null float64\n",
      "sec_app_revol_util                            0 non-null float64\n",
      "sec_app_open_act_il                           0 non-null float64\n",
      "sec_app_num_rev_accts                         0 non-null float64\n",
      "sec_app_chargeoff_within_12_mths              0 non-null float64\n",
      "sec_app_collections_12_mths_ex_med            0 non-null float64\n",
      "sec_app_mths_since_last_major_derog           0 non-null float64\n",
      "hardship_flag                                 42535 non-null object\n",
      "hardship_type                                 0 non-null float64\n",
      "hardship_reason                               0 non-null float64\n",
      "hardship_status                               0 non-null float64\n",
      "deferral_term                                 0 non-null float64\n",
      "hardship_amount                               0 non-null float64\n",
      "hardship_start_date                           0 non-null float64\n",
      "hardship_end_date                             0 non-null float64\n",
      "payment_plan_start_date                       0 non-null float64\n",
      "hardship_length                               0 non-null float64\n",
      "hardship_dpd                                  0 non-null float64\n",
      "hardship_loan_status                          0 non-null float64\n",
      "orig_projected_additional_accrued_interest    0 non-null float64\n",
      "hardship_payoff_balance_amount                0 non-null float64\n",
      "hardship_last_payment_amount                  0 non-null float64\n",
      "disbursement_method                           42535 non-null object\n",
      "debt_settlement_flag                          42535 non-null object\n",
      "debt_settlement_flag_date                     158 non-null object\n",
      "settlement_status                             158 non-null object\n",
      "settlement_date                               158 non-null object\n",
      "settlement_amount                             158 non-null float64\n",
      "settlement_percentage                         158 non-null float64\n",
      "settlement_term                               158 non-null float64\n",
      "dtypes: float64(38), object(6)\n",
      "memory usage: 14.3+ MB\n"
     ]
    }
   ],
   "source": [
    "df.iloc[:, 101:].info()"
   ]
  },
  {
   "cell_type": "markdown",
   "metadata": {},
   "source": [
    "## Clean Dataframe\n",
    "\n",
    "### Drop columns and rows with no data \n",
    "\n",
    "Looking at the dataset, at least half of the columns seem to have all null values. I removed those columns using .dropna(). I also dropped the columns that only had 158 non-null values. This left me with 57 columns. "
   ]
  },
  {
   "cell_type": "code",
   "execution_count": 20,
   "metadata": {
    "collapsed": true
   },
   "outputs": [],
   "source": [
    "# Drop all columns and rows with 0 non-null values \n",
    "df = df.dropna(axis = 1, how = 'all')\n",
    "df = df.dropna(axis = 0, how = 'all')"
   ]
  },
  {
   "cell_type": "code",
   "execution_count": 21,
   "metadata": {
    "scrolled": true
   },
   "outputs": [
    {
     "name": "stdout",
     "output_type": "stream",
     "text": [
      "<class 'pandas.core.frame.DataFrame'>\n",
      "Int64Index: 42538 entries, 0 to 42541\n",
      "Data columns (total 57 columns):\n",
      "loan_amnt                     42535 non-null float64\n",
      "funded_amnt                   42535 non-null float64\n",
      "funded_amnt_inv               42535 non-null float64\n",
      "term                          42535 non-null object\n",
      "int_rate                      42535 non-null object\n",
      "installment                   42535 non-null float64\n",
      "grade                         42535 non-null object\n",
      "sub_grade                     42535 non-null object\n",
      "emp_title                     39911 non-null object\n",
      "emp_length                    42535 non-null object\n",
      "home_ownership                42535 non-null object\n",
      "annual_inc                    42531 non-null float64\n",
      "verification_status           42535 non-null object\n",
      "issue_d                       42535 non-null object\n",
      "loan_status                   42535 non-null object\n",
      "pymnt_plan                    42535 non-null object\n",
      "desc                          29243 non-null object\n",
      "purpose                       42535 non-null object\n",
      "title                         42523 non-null object\n",
      "zip_code                      42535 non-null object\n",
      "addr_state                    42535 non-null object\n",
      "dti                           42535 non-null float64\n",
      "delinq_2yrs                   42506 non-null float64\n",
      "earliest_cr_line              42506 non-null object\n",
      "inq_last_6mths                42506 non-null float64\n",
      "mths_since_last_delinq        15609 non-null float64\n",
      "mths_since_last_record        3651 non-null float64\n",
      "open_acc                      42506 non-null float64\n",
      "pub_rec                       42506 non-null float64\n",
      "revol_bal                     42535 non-null float64\n",
      "revol_util                    42445 non-null object\n",
      "total_acc                     42506 non-null float64\n",
      "initial_list_status           42535 non-null object\n",
      "out_prncp                     42535 non-null float64\n",
      "out_prncp_inv                 42535 non-null float64\n",
      "total_pymnt                   42535 non-null float64\n",
      "total_pymnt_inv               42535 non-null float64\n",
      "total_rec_prncp               42535 non-null float64\n",
      "total_rec_int                 42535 non-null float64\n",
      "total_rec_late_fee            42535 non-null float64\n",
      "recoveries                    42535 non-null float64\n",
      "collection_recovery_fee       42535 non-null float64\n",
      "last_pymnt_d                  42452 non-null object\n",
      "last_pymnt_amnt               42535 non-null float64\n",
      "next_pymnt_d                  2749 non-null object\n",
      "last_credit_pull_d            42531 non-null object\n",
      "collections_12_mths_ex_med    42390 non-null float64\n",
      "policy_code                   42535 non-null float64\n",
      "application_type              42535 non-null object\n",
      "acc_now_delinq                42506 non-null float64\n",
      "chargeoff_within_12_mths      42390 non-null float64\n",
      "delinq_amnt                   42506 non-null float64\n",
      "pub_rec_bankruptcies          41170 non-null float64\n",
      "tax_liens                     42430 non-null float64\n",
      "hardship_flag                 42535 non-null object\n",
      "disbursement_method           42535 non-null object\n",
      "debt_settlement_flag          42535 non-null object\n",
      "dtypes: float64(31), object(26)\n",
      "memory usage: 18.8+ MB\n"
     ]
    }
   ],
   "source": [
    "# Drop columns with only 158 non-null values\n",
    "df = df.iloc[:, 1:58]\n",
    "df.info()"
   ]
  },
  {
   "cell_type": "markdown",
   "metadata": {},
   "source": [
    "### Drop additional columns\n",
    "\n",
    "In order to focus my project, I decided to drop any columns that were not of interest to the project. This left me with 18 columns. \n",
    "\n",
    "I used the Lending Club data dictionary to help me decide which columns to remove from the dataframe. \n",
    "Data dictionary: https://resources.lendingclub.com/LCDataDictionary.xlsx"
   ]
  },
  {
   "cell_type": "code",
   "execution_count": 22,
   "metadata": {
    "scrolled": true
   },
   "outputs": [
    {
     "name": "stdout",
     "output_type": "stream",
     "text": [
      "<class 'pandas.core.frame.DataFrame'>\n",
      "Int64Index: 42538 entries, 0 to 42541\n",
      "Data columns (total 22 columns):\n",
      "funded_amnt            42535 non-null float64\n",
      "funded_amnt_inv        42535 non-null float64\n",
      "term                   42535 non-null object\n",
      "int_rate               42535 non-null object\n",
      "installment            42535 non-null float64\n",
      "grade                  42535 non-null object\n",
      "sub_grade              42535 non-null object\n",
      "emp_title              39911 non-null object\n",
      "emp_length             42535 non-null object\n",
      "home_ownership         42535 non-null object\n",
      "annual_inc             42531 non-null float64\n",
      "verification_status    42535 non-null object\n",
      "issue_d                42535 non-null object\n",
      "loan_status            42535 non-null object\n",
      "pymnt_plan             42535 non-null object\n",
      "desc                   29243 non-null object\n",
      "purpose                42535 non-null object\n",
      "title                  42523 non-null object\n",
      "zip_code               42535 non-null object\n",
      "addr_state             42535 non-null object\n",
      "dti                    42535 non-null float64\n",
      "delinq_2yrs            42506 non-null float64\n",
      "dtypes: float64(6), object(16)\n",
      "memory usage: 7.5+ MB\n"
     ]
    }
   ],
   "source": [
    "# Drop columns\n",
    "df = df.iloc[:, 1:23]\n",
    "df.info()"
   ]
  },
  {
   "cell_type": "code",
   "execution_count": 23,
   "metadata": {
    "scrolled": true
   },
   "outputs": [
    {
     "name": "stdout",
     "output_type": "stream",
     "text": [
      "<class 'pandas.core.frame.DataFrame'>\n",
      "Int64Index: 42538 entries, 0 to 42541\n",
      "Data columns (total 18 columns):\n",
      "funded_amnt            42535 non-null float64\n",
      "term                   42535 non-null object\n",
      "int_rate               42535 non-null object\n",
      "installment            42535 non-null float64\n",
      "grade                  42535 non-null object\n",
      "sub_grade              42535 non-null object\n",
      "emp_title              39911 non-null object\n",
      "emp_length             42535 non-null object\n",
      "home_ownership         42535 non-null object\n",
      "annual_inc             42531 non-null float64\n",
      "verification_status    42535 non-null object\n",
      "issue_d                42535 non-null object\n",
      "loan_status            42535 non-null object\n",
      "pymnt_plan             42535 non-null object\n",
      "purpose                42535 non-null object\n",
      "title                  42523 non-null object\n",
      "addr_state             42535 non-null object\n",
      "dti                    42535 non-null float64\n",
      "dtypes: float64(4), object(14)\n",
      "memory usage: 6.2+ MB\n"
     ]
    }
   ],
   "source": [
    "# Drop additional columns\n",
    "df = df.drop('funded_amnt_inv', 1)\n",
    "df = df.drop('desc', 1)\n",
    "df = df.drop('zip_code', 1)\n",
    "df = df.drop('delinq_2yrs', 1)\n",
    "df.info()"
   ]
  },
  {
   "cell_type": "markdown",
   "metadata": {
    "collapsed": true
   },
   "source": [
    "### Remove empty rows\n",
    "\n",
    "I noticed that while most rows had 42535 non-null objects, there were 42538 entries in the dataframe. I used .isnull() to find and remove the 3 empty rows. "
   ]
  },
  {
   "cell_type": "code",
   "execution_count": 24,
   "metadata": {},
   "outputs": [
    {
     "data": {
      "text/html": [
       "<div>\n",
       "<style>\n",
       "    .dataframe thead tr:only-child th {\n",
       "        text-align: right;\n",
       "    }\n",
       "\n",
       "    .dataframe thead th {\n",
       "        text-align: left;\n",
       "    }\n",
       "\n",
       "    .dataframe tbody tr th {\n",
       "        vertical-align: top;\n",
       "    }\n",
       "</style>\n",
       "<table border=\"1\" class=\"dataframe\">\n",
       "  <thead>\n",
       "    <tr style=\"text-align: right;\">\n",
       "      <th></th>\n",
       "      <th>funded_amnt</th>\n",
       "      <th>term</th>\n",
       "      <th>int_rate</th>\n",
       "      <th>installment</th>\n",
       "      <th>grade</th>\n",
       "      <th>sub_grade</th>\n",
       "      <th>emp_title</th>\n",
       "      <th>emp_length</th>\n",
       "      <th>home_ownership</th>\n",
       "      <th>annual_inc</th>\n",
       "      <th>verification_status</th>\n",
       "      <th>issue_d</th>\n",
       "      <th>loan_status</th>\n",
       "      <th>pymnt_plan</th>\n",
       "      <th>purpose</th>\n",
       "      <th>title</th>\n",
       "      <th>addr_state</th>\n",
       "      <th>dti</th>\n",
       "    </tr>\n",
       "  </thead>\n",
       "  <tbody>\n",
       "    <tr>\n",
       "      <th>39788</th>\n",
       "      <td>NaN</td>\n",
       "      <td>NaN</td>\n",
       "      <td>NaN</td>\n",
       "      <td>NaN</td>\n",
       "      <td>NaN</td>\n",
       "      <td>NaN</td>\n",
       "      <td>NaN</td>\n",
       "      <td>NaN</td>\n",
       "      <td>NaN</td>\n",
       "      <td>NaN</td>\n",
       "      <td>NaN</td>\n",
       "      <td>NaN</td>\n",
       "      <td>NaN</td>\n",
       "      <td>NaN</td>\n",
       "      <td>NaN</td>\n",
       "      <td>NaN</td>\n",
       "      <td>NaN</td>\n",
       "      <td>NaN</td>\n",
       "    </tr>\n",
       "    <tr>\n",
       "      <th>42540</th>\n",
       "      <td>NaN</td>\n",
       "      <td>NaN</td>\n",
       "      <td>NaN</td>\n",
       "      <td>NaN</td>\n",
       "      <td>NaN</td>\n",
       "      <td>NaN</td>\n",
       "      <td>NaN</td>\n",
       "      <td>NaN</td>\n",
       "      <td>NaN</td>\n",
       "      <td>NaN</td>\n",
       "      <td>NaN</td>\n",
       "      <td>NaN</td>\n",
       "      <td>NaN</td>\n",
       "      <td>NaN</td>\n",
       "      <td>NaN</td>\n",
       "      <td>NaN</td>\n",
       "      <td>NaN</td>\n",
       "      <td>NaN</td>\n",
       "    </tr>\n",
       "    <tr>\n",
       "      <th>42541</th>\n",
       "      <td>NaN</td>\n",
       "      <td>NaN</td>\n",
       "      <td>NaN</td>\n",
       "      <td>NaN</td>\n",
       "      <td>NaN</td>\n",
       "      <td>NaN</td>\n",
       "      <td>NaN</td>\n",
       "      <td>NaN</td>\n",
       "      <td>NaN</td>\n",
       "      <td>NaN</td>\n",
       "      <td>NaN</td>\n",
       "      <td>NaN</td>\n",
       "      <td>NaN</td>\n",
       "      <td>NaN</td>\n",
       "      <td>NaN</td>\n",
       "      <td>NaN</td>\n",
       "      <td>NaN</td>\n",
       "      <td>NaN</td>\n",
       "    </tr>\n",
       "  </tbody>\n",
       "</table>\n",
       "</div>"
      ],
      "text/plain": [
       "       funded_amnt term int_rate  installment grade sub_grade emp_title  \\\n",
       "39788          NaN  NaN      NaN          NaN   NaN       NaN       NaN   \n",
       "42540          NaN  NaN      NaN          NaN   NaN       NaN       NaN   \n",
       "42541          NaN  NaN      NaN          NaN   NaN       NaN       NaN   \n",
       "\n",
       "      emp_length home_ownership  annual_inc verification_status issue_d  \\\n",
       "39788        NaN            NaN         NaN                 NaN     NaN   \n",
       "42540        NaN            NaN         NaN                 NaN     NaN   \n",
       "42541        NaN            NaN         NaN                 NaN     NaN   \n",
       "\n",
       "      loan_status pymnt_plan purpose title addr_state  dti  \n",
       "39788         NaN        NaN     NaN   NaN        NaN  NaN  \n",
       "42540         NaN        NaN     NaN   NaN        NaN  NaN  \n",
       "42541         NaN        NaN     NaN   NaN        NaN  NaN  "
      ]
     },
     "execution_count": 24,
     "metadata": {},
     "output_type": "execute_result"
    }
   ],
   "source": [
    "# Identify the rows with missing data\n",
    "nans = lambda df: df[df.isnull().all(axis=1)]\n",
    "nans(df)"
   ]
  },
  {
   "cell_type": "code",
   "execution_count": 25,
   "metadata": {
    "scrolled": true
   },
   "outputs": [
    {
     "name": "stdout",
     "output_type": "stream",
     "text": [
      "<class 'pandas.core.frame.DataFrame'>\n",
      "Int64Index: 42535 entries, 0 to 42537\n",
      "Data columns (total 18 columns):\n",
      "funded_amnt            42535 non-null float64\n",
      "term                   42535 non-null object\n",
      "int_rate               42535 non-null object\n",
      "installment            42535 non-null float64\n",
      "grade                  42535 non-null object\n",
      "sub_grade              42535 non-null object\n",
      "emp_title              39911 non-null object\n",
      "emp_length             42535 non-null object\n",
      "home_ownership         42535 non-null object\n",
      "annual_inc             42531 non-null float64\n",
      "verification_status    42535 non-null object\n",
      "issue_d                42535 non-null object\n",
      "loan_status            42535 non-null object\n",
      "pymnt_plan             42535 non-null object\n",
      "purpose                42535 non-null object\n",
      "title                  42523 non-null object\n",
      "addr_state             42535 non-null object\n",
      "dti                    42535 non-null float64\n",
      "dtypes: float64(4), object(14)\n",
      "memory usage: 6.2+ MB\n"
     ]
    }
   ],
   "source": [
    "# Drop empty rows \n",
    "df = df.drop([39788, 42540, 42541])\n",
    "df.info()"
   ]
  },
  {
   "cell_type": "markdown",
   "metadata": {
    "collapsed": true
   },
   "source": [
    "## Fill missing data\n",
    "### Employment Title\n",
    "\n",
    "The employment title column is missing 2624 entries. I decided to replace those with 'Unknown'"
   ]
  },
  {
   "cell_type": "code",
   "execution_count": 26,
   "metadata": {
    "scrolled": true
   },
   "outputs": [
    {
     "data": {
      "text/plain": [
       "NaN                                     2624\n",
       "US Army                                  139\n",
       "Bank of America                          115\n",
       "IBM                                       72\n",
       "Kaiser Permanente                         61\n",
       "AT&T                                      61\n",
       "UPS                                       58\n",
       "Wells Fargo                               57\n",
       "USAF                                      56\n",
       "US Air Force                              55\n",
       "Self Employed                             49\n",
       "United States Air Force                   48\n",
       "Walmart                                   47\n",
       "Lockheed Martin                           46\n",
       "State of California                       45\n",
       "Verizon Wireless                          43\n",
       "U.S. Army                                 42\n",
       "USPS                                      41\n",
       "Walgreens                                 41\n",
       "US ARMY                                   40\n",
       "Self                                      39\n",
       "Target                                    38\n",
       "JP Morgan Chase                           38\n",
       "Best Buy                                  38\n",
       "JPMorgan Chase                            38\n",
       "Department of Defense                     37\n",
       "US Navy                                   36\n",
       "Verizon                                   35\n",
       "Booz Allen Hamilton                       34\n",
       "Northrop Grumman                          34\n",
       "                                        ... \n",
       "xerox cor.                                 1\n",
       "Atlantis Homes                             1\n",
       "MARR Inc.                                  1\n",
       "HNW                                        1\n",
       "Central Texas Medical Center               1\n",
       "Mauck Zantzinger & Associates              1\n",
       "Hitachi                                    1\n",
       "St michael church                          1\n",
       "Phams Car Care Center, Inc.                1\n",
       "Rea & Associates Inc.                      1\n",
       "Mt. Carmel Health System                   1\n",
       "NuVusion Engineering                       1\n",
       "Praxair                                    1\n",
       "JS Direct Marketing                        1\n",
       "Kforce (contractor with ITT)               1\n",
       "Enagic                                     1\n",
       "National Notary Association                1\n",
       "Moore Physical Therapy                     1\n",
       "Extendicare Health Services                1\n",
       "smiths                                     1\n",
       "Dell Computer, Inc                         1\n",
       "Wild Birds and Gardens                     1\n",
       "wilson ford and lovelace law officce       1\n",
       "Green Building Services                    1\n",
       "american battery charging                  1\n",
       "Lehman Title & Escrow                      1\n",
       "navigant credit union                      1\n",
       "Penava Mech. Corp.                         1\n",
       "Novato Unified School District             1\n",
       "Atlas Restaurant Supply                    1\n",
       "Name: emp_title, Length: 30660, dtype: int64"
      ]
     },
     "execution_count": 26,
     "metadata": {},
     "output_type": "execute_result"
    }
   ],
   "source": [
    "# Explore column\n",
    "df['emp_title'].value_counts(dropna=False)"
   ]
  },
  {
   "cell_type": "code",
   "execution_count": 27,
   "metadata": {
    "collapsed": true
   },
   "outputs": [],
   "source": [
    "## Replace NaN with 'Unknown'\n",
    "df['emp_title'] = df['emp_title'].fillna('Unknown')"
   ]
  },
  {
   "cell_type": "markdown",
   "metadata": {},
   "source": [
    "### Annual Income\n",
    "\n",
    "The Annual Income column is missing 4 values. I decided to use mean to fill those missing values"
   ]
  },
  {
   "cell_type": "code",
   "execution_count": 28,
   "metadata": {},
   "outputs": [
    {
     "data": {
      "text/plain": [
       "count    4.253100e+04\n",
       "mean     6.913656e+04\n",
       "std      6.409635e+04\n",
       "min      1.896000e+03\n",
       "25%      4.000000e+04\n",
       "50%      5.900000e+04\n",
       "75%      8.250000e+04\n",
       "max      6.000000e+06\n",
       "Name: annual_inc, dtype: float64"
      ]
     },
     "execution_count": 28,
     "metadata": {},
     "output_type": "execute_result"
    }
   ],
   "source": [
    "# Explore annual_inc column\n",
    "df['annual_inc'].describe()"
   ]
  },
  {
   "cell_type": "code",
   "execution_count": 29,
   "metadata": {},
   "outputs": [
    {
     "data": {
      "text/plain": [
       "69136.55642025822"
      ]
     },
     "execution_count": 29,
     "metadata": {},
     "output_type": "execute_result"
    }
   ],
   "source": [
    "# Calculate the mean of annual_inc\n",
    "inc_mean = df['annual_inc'].mean()\n",
    "inc_mean"
   ]
  },
  {
   "cell_type": "code",
   "execution_count": 30,
   "metadata": {
    "collapsed": true
   },
   "outputs": [],
   "source": [
    "# Replace all the missing values in annual_inc with the mean\n",
    "df['annual_inc'] = df['annual_inc'].fillna(inc_mean)"
   ]
  },
  {
   "cell_type": "markdown",
   "metadata": {},
   "source": [
    "### Title\n",
    "\n",
    "The title column is missing 12 values. I decided to also replace these NaN values with 'Unknown'"
   ]
  },
  {
   "cell_type": "code",
   "execution_count": 31,
   "metadata": {
    "scrolled": true
   },
   "outputs": [
    {
     "data": {
      "text/plain": [
       "Debt Consolidation                                                            2259\n",
       "Debt Consolidation Loan                                                       1760\n",
       "Personal Loan                                                                  708\n",
       "Consolidation                                                                  547\n",
       "debt consolidation                                                             532\n",
       "Home Improvement                                                               373\n",
       "Credit Card Consolidation                                                      370\n",
       "Debt consolidation                                                             347\n",
       "Small Business Loan                                                            333\n",
       "Personal                                                                       330\n",
       "Credit Card Loan                                                               323\n",
       "personal loan                                                                  266\n",
       "Consolidation Loan                                                             264\n",
       "Home Improvement Loan                                                          255\n",
       "personal                                                                       247\n",
       "Loan                                                                           218\n",
       "consolidation                                                                  217\n",
       "Wedding Loan                                                                   217\n",
       "Car Loan                                                                       206\n",
       "Other Loan                                                                     192\n",
       "Credit Card Payoff                                                             164\n",
       "Wedding                                                                        160\n",
       "Credit Card Refinance                                                          147\n",
       "Major Purchase Loan                                                            146\n",
       "Consolidate                                                                    141\n",
       "Medical                                                                        124\n",
       "Credit Card                                                                    124\n",
       "home improvement                                                               117\n",
       "My Loan                                                                         96\n",
       "Credit Cards                                                                    95\n",
       "                                                                              ... \n",
       "joesloan                                                                         1\n",
       "Knock Out the Credit Cards                                                       1\n",
       "Refinance of Timeshare                                                           1\n",
       "2011 Insurance and Debt Consolidation                                            1\n",
       "Labors of Love                                                                   1\n",
       "Operation Pay Off Parents                                                        1\n",
       "My little share to mother earth. Green remodeling of studio in Miami Beach       1\n",
       "Unsecured personal                                                               1\n",
       "LR Discovery                                                                     1\n",
       "IT Franchise Purchase                                                            1\n",
       "credit free                                                                      1\n",
       "Small business Loan                                                              1\n",
       "Rest and Rejuvenation                                                            1\n",
       "winter bills                                                                     1\n",
       "A GIFT THAT WILL KEEP GIVING                                                     1\n",
       "One loan Only                                                                    1\n",
       "NEED TO STOP PAYING 21% INTEREST TO THE BIG 3 BANKS                              1\n",
       "Tray Engagement Ring                                                             1\n",
       "Credit Card repay                                                                1\n",
       "Cards - Refinanced                                                               1\n",
       "Jason June Losn                                                                  1\n",
       "citi visa/ paioner loan                                                          1\n",
       "Consolidate Remaining Debt                                                       1\n",
       "Van Loan Refinance                                                               1\n",
       "Start Up Costs                                                                   1\n",
       "Recent Graduate - Debt Consolidation                                             1\n",
       "consolidate + extra                                                              1\n",
       "Time to Make Some Good Decisions                                                 1\n",
       "Hungary                                                                          1\n",
       "Debt Free In The City                                                            1\n",
       "Name: title, Length: 21254, dtype: int64"
      ]
     },
     "execution_count": 31,
     "metadata": {},
     "output_type": "execute_result"
    }
   ],
   "source": [
    "# Explore column\n",
    "df['title'].value_counts(dropna=False)"
   ]
  },
  {
   "cell_type": "code",
   "execution_count": 32,
   "metadata": {
    "collapsed": true
   },
   "outputs": [],
   "source": [
    "## Replace NaN with 'Unknown'\n",
    "df['title'] = df['title'].fillna('Unknown')"
   ]
  },
  {
   "cell_type": "code",
   "execution_count": 33,
   "metadata": {
    "scrolled": true
   },
   "outputs": [
    {
     "name": "stdout",
     "output_type": "stream",
     "text": [
      "<class 'pandas.core.frame.DataFrame'>\n",
      "Int64Index: 42535 entries, 0 to 42537\n",
      "Data columns (total 18 columns):\n",
      "funded_amnt            42535 non-null float64\n",
      "term                   42535 non-null object\n",
      "int_rate               42535 non-null object\n",
      "installment            42535 non-null float64\n",
      "grade                  42535 non-null object\n",
      "sub_grade              42535 non-null object\n",
      "emp_title              42535 non-null object\n",
      "emp_length             42535 non-null object\n",
      "home_ownership         42535 non-null object\n",
      "annual_inc             42535 non-null float64\n",
      "verification_status    42535 non-null object\n",
      "issue_d                42535 non-null object\n",
      "loan_status            42535 non-null object\n",
      "pymnt_plan             42535 non-null object\n",
      "purpose                42535 non-null object\n",
      "title                  42535 non-null object\n",
      "addr_state             42535 non-null object\n",
      "dti                    42535 non-null float64\n",
      "dtypes: float64(4), object(14)\n",
      "memory usage: 6.2+ MB\n"
     ]
    }
   ],
   "source": [
    "df.info()"
   ]
  },
  {
   "cell_type": "markdown",
   "metadata": {},
   "source": [
    "## Additional Exploration\n",
    "\n",
    "In order to see if any additional columns needed cleaning, I explored each column individually. "
   ]
  },
  {
   "cell_type": "markdown",
   "metadata": {},
   "source": [
    "### Explore numeric columns"
   ]
  },
  {
   "cell_type": "code",
   "execution_count": 34,
   "metadata": {},
   "outputs": [
    {
     "data": {
      "text/html": [
       "<div>\n",
       "<style>\n",
       "    .dataframe thead tr:only-child th {\n",
       "        text-align: right;\n",
       "    }\n",
       "\n",
       "    .dataframe thead th {\n",
       "        text-align: left;\n",
       "    }\n",
       "\n",
       "    .dataframe tbody tr th {\n",
       "        vertical-align: top;\n",
       "    }\n",
       "</style>\n",
       "<table border=\"1\" class=\"dataframe\">\n",
       "  <thead>\n",
       "    <tr style=\"text-align: right;\">\n",
       "      <th></th>\n",
       "      <th>funded_amnt</th>\n",
       "      <th>installment</th>\n",
       "      <th>annual_inc</th>\n",
       "      <th>dti</th>\n",
       "    </tr>\n",
       "  </thead>\n",
       "  <tbody>\n",
       "    <tr>\n",
       "      <th>count</th>\n",
       "      <td>42535.000000</td>\n",
       "      <td>42535.000000</td>\n",
       "      <td>4.253500e+04</td>\n",
       "      <td>42535.000000</td>\n",
       "    </tr>\n",
       "    <tr>\n",
       "      <th>mean</th>\n",
       "      <td>10821.585753</td>\n",
       "      <td>322.623063</td>\n",
       "      <td>6.913656e+04</td>\n",
       "      <td>13.373043</td>\n",
       "    </tr>\n",
       "    <tr>\n",
       "      <th>std</th>\n",
       "      <td>7146.914675</td>\n",
       "      <td>208.927216</td>\n",
       "      <td>6.409334e+04</td>\n",
       "      <td>6.726315</td>\n",
       "    </tr>\n",
       "    <tr>\n",
       "      <th>min</th>\n",
       "      <td>500.000000</td>\n",
       "      <td>15.670000</td>\n",
       "      <td>1.896000e+03</td>\n",
       "      <td>0.000000</td>\n",
       "    </tr>\n",
       "    <tr>\n",
       "      <th>25%</th>\n",
       "      <td>5000.000000</td>\n",
       "      <td>165.520000</td>\n",
       "      <td>4.000000e+04</td>\n",
       "      <td>8.200000</td>\n",
       "    </tr>\n",
       "    <tr>\n",
       "      <th>50%</th>\n",
       "      <td>9600.000000</td>\n",
       "      <td>277.690000</td>\n",
       "      <td>5.900000e+04</td>\n",
       "      <td>13.470000</td>\n",
       "    </tr>\n",
       "    <tr>\n",
       "      <th>75%</th>\n",
       "      <td>15000.000000</td>\n",
       "      <td>428.180000</td>\n",
       "      <td>8.250000e+04</td>\n",
       "      <td>18.680000</td>\n",
       "    </tr>\n",
       "    <tr>\n",
       "      <th>max</th>\n",
       "      <td>35000.000000</td>\n",
       "      <td>1305.190000</td>\n",
       "      <td>6.000000e+06</td>\n",
       "      <td>29.990000</td>\n",
       "    </tr>\n",
       "  </tbody>\n",
       "</table>\n",
       "</div>"
      ],
      "text/plain": [
       "        funded_amnt   installment    annual_inc           dti\n",
       "count  42535.000000  42535.000000  4.253500e+04  42535.000000\n",
       "mean   10821.585753    322.623063  6.913656e+04     13.373043\n",
       "std     7146.914675    208.927216  6.409334e+04      6.726315\n",
       "min      500.000000     15.670000  1.896000e+03      0.000000\n",
       "25%     5000.000000    165.520000  4.000000e+04      8.200000\n",
       "50%     9600.000000    277.690000  5.900000e+04     13.470000\n",
       "75%    15000.000000    428.180000  8.250000e+04     18.680000\n",
       "max    35000.000000   1305.190000  6.000000e+06     29.990000"
      ]
     },
     "execution_count": 34,
     "metadata": {},
     "output_type": "execute_result"
    }
   ],
   "source": [
    "df.describe()"
   ]
  },
  {
   "cell_type": "markdown",
   "metadata": {},
   "source": [
    "### Explore term"
   ]
  },
  {
   "cell_type": "code",
   "execution_count": 37,
   "metadata": {},
   "outputs": [
    {
     "data": {
      "text/plain": [
       " 36 months    31534\n",
       " 60 months    11001\n",
       "Name: term, dtype: int64"
      ]
     },
     "execution_count": 37,
     "metadata": {},
     "output_type": "execute_result"
    }
   ],
   "source": [
    "df['term'].value_counts()"
   ]
  },
  {
   "cell_type": "code",
   "execution_count": 38,
   "metadata": {
    "collapsed": true
   },
   "outputs": [],
   "source": [
    "# Convert the term column to a category\n",
    "df.term = df.term.astype('category')"
   ]
  },
  {
   "cell_type": "markdown",
   "metadata": {},
   "source": [
    "### Explore int_rate"
   ]
  },
  {
   "cell_type": "code",
   "execution_count": 39,
   "metadata": {
    "scrolled": true
   },
   "outputs": [
    {
     "data": {
      "text/plain": [
       "10.99%    970\n",
       "11.49%    837\n",
       "13.49%    832\n",
       "7.51%     787\n",
       "7.88%     742\n",
       "7.49%     656\n",
       "11.71%    609\n",
       "9.99%     607\n",
       "7.90%     582\n",
       "5.42%     573\n",
       "11.99%    535\n",
       "12.69%    492\n",
       "10.37%    470\n",
       "12.99%    456\n",
       "6.03%     447\n",
       "8.49%     445\n",
       "12.42%    443\n",
       "10.65%    435\n",
       "11.86%    418\n",
       "5.79%     410\n",
       "8.90%     402\n",
       "10.59%    400\n",
       "7.29%     397\n",
       "6.62%     396\n",
       "14.27%    391\n",
       "9.63%     384\n",
       "9.91%     377\n",
       "12.53%    356\n",
       "5.99%     347\n",
       "7.14%     342\n",
       "         ... \n",
       "20.52%      4\n",
       "12.62%      3\n",
       "18.86%      3\n",
       "20.69%      3\n",
       "14.67%      3\n",
       "14.57%      3\n",
       "16.46%      3\n",
       "18.49%      3\n",
       "24.11%      3\n",
       "22.94%      2\n",
       "21.82%      2\n",
       "13.84%      2\n",
       "17.59%      2\n",
       "17.09%      2\n",
       "16.33%      2\n",
       "17.28%      2\n",
       "17.91%      2\n",
       "20.20%      2\n",
       "16.20%      1\n",
       "17.72%      1\n",
       "18.72%      1\n",
       "17.41%      1\n",
       "17.78%      1\n",
       "17.44%      1\n",
       "17.46%      1\n",
       "21.48%      1\n",
       "24.59%      1\n",
       "22.64%      1\n",
       "16.83%      1\n",
       "24.40%      1\n",
       "Name: int_rate, Length: 394, dtype: int64"
      ]
     },
     "execution_count": 39,
     "metadata": {},
     "output_type": "execute_result"
    }
   ],
   "source": [
    "df['int_rate'].value_counts()"
   ]
  },
  {
   "cell_type": "code",
   "execution_count": 40,
   "metadata": {
    "collapsed": true
   },
   "outputs": [],
   "source": [
    "# convert the percentages to a float\n",
    "df['int_rate'] = df['int_rate'].str.rstrip('%').astype('float')/100.00"
   ]
  },
  {
   "cell_type": "markdown",
   "metadata": {},
   "source": [
    "### Explore installment"
   ]
  },
  {
   "cell_type": "code",
   "execution_count": 41,
   "metadata": {
    "scrolled": true
   },
   "outputs": [
    {
     "data": {
      "text/plain": [
       "311.11     68\n",
       "180.96     59\n",
       "311.02     54\n",
       "150.80     48\n",
       "368.45     46\n",
       "372.12     45\n",
       "330.76     43\n",
       "339.31     42\n",
       "317.72     42\n",
       "186.61     41\n",
       "301.60     41\n",
       "304.36     40\n",
       "187.69     40\n",
       "373.33     40\n",
       "276.06     39\n",
       "396.92     39\n",
       "155.56     39\n",
       "365.23     39\n",
       "312.82     39\n",
       "310.10     39\n",
       "303.27     37\n",
       "120.64     37\n",
       "325.74     37\n",
       "322.63     36\n",
       "187.75     36\n",
       "186.67     36\n",
       "152.18     36\n",
       "361.92     35\n",
       "307.04     35\n",
       "156.41     34\n",
       "           ..\n",
       "275.09      1\n",
       "498.91      1\n",
       "204.84      1\n",
       "105.82      1\n",
       "111.88      1\n",
       "523.14      1\n",
       "215.70      1\n",
       "470.33      1\n",
       "400.65      1\n",
       "278.92      1\n",
       "349.74      1\n",
       "82.05       1\n",
       "713.40      1\n",
       "639.03      1\n",
       "1106.83     1\n",
       "195.58      1\n",
       "660.12      1\n",
       "351.50      1\n",
       "267.68      1\n",
       "411.99      1\n",
       "98.99       1\n",
       "282.43      1\n",
       "365.78      1\n",
       "356.75      1\n",
       "77.86       1\n",
       "322.64      1\n",
       "368.49      1\n",
       "690.13      1\n",
       "169.83      1\n",
       "316.58      1\n",
       "Name: installment, Length: 16459, dtype: int64"
      ]
     },
     "execution_count": 41,
     "metadata": {},
     "output_type": "execute_result"
    }
   ],
   "source": [
    "df['installment'].value_counts()"
   ]
  },
  {
   "cell_type": "code",
   "execution_count": 42,
   "metadata": {
    "collapsed": true
   },
   "outputs": [],
   "source": [
    "# convert installment to a float\n",
    "df.installment = df.installment.astype('float')"
   ]
  },
  {
   "cell_type": "markdown",
   "metadata": {},
   "source": [
    "### Explore grade and sub_grade"
   ]
  },
  {
   "cell_type": "code",
   "execution_count": 43,
   "metadata": {},
   "outputs": [
    {
     "data": {
      "text/plain": [
       "B    12389\n",
       "A    10183\n",
       "C     8740\n",
       "D     6016\n",
       "E     3394\n",
       "F     1301\n",
       "G      512\n",
       "Name: grade, dtype: int64"
      ]
     },
     "execution_count": 43,
     "metadata": {},
     "output_type": "execute_result"
    }
   ],
   "source": [
    "df.grade.value_counts()"
   ]
  },
  {
   "cell_type": "code",
   "execution_count": 44,
   "metadata": {
    "collapsed": true
   },
   "outputs": [],
   "source": [
    "# convert grade column to category\n",
    "df.grade = df.grade.astype('category')"
   ]
  },
  {
   "cell_type": "code",
   "execution_count": 45,
   "metadata": {
    "scrolled": true
   },
   "outputs": [
    {
     "data": {
      "text/plain": [
       "B3    2997\n",
       "A4    2905\n",
       "B5    2807\n",
       "A5    2793\n",
       "B4    2590\n",
       "C1    2264\n",
       "C2    2157\n",
       "B2    2113\n",
       "B1    1882\n",
       "A3    1823\n",
       "C3    1658\n",
       "A2    1520\n",
       "D2    1485\n",
       "C4    1370\n",
       "D3    1322\n",
       "C5    1291\n",
       "A1    1142\n",
       "D4    1140\n",
       "D1    1053\n",
       "D5    1016\n",
       "E1     884\n",
       "E2     791\n",
       "E3     668\n",
       "E4     552\n",
       "E5     499\n",
       "F1     392\n",
       "F2     308\n",
       "F3     236\n",
       "F4     211\n",
       "F5     154\n",
       "G1     141\n",
       "G2     107\n",
       "G4      99\n",
       "G5      86\n",
       "G3      79\n",
       "Name: sub_grade, dtype: int64"
      ]
     },
     "execution_count": 45,
     "metadata": {},
     "output_type": "execute_result"
    }
   ],
   "source": [
    "df.sub_grade.value_counts()"
   ]
  },
  {
   "cell_type": "code",
   "execution_count": 46,
   "metadata": {
    "collapsed": true
   },
   "outputs": [],
   "source": [
    "# convert grade column to category\n",
    "df.sub_grade = df.sub_grade.astype('category')"
   ]
  },
  {
   "cell_type": "markdown",
   "metadata": {},
   "source": [
    "### Explore emp_title"
   ]
  },
  {
   "cell_type": "code",
   "execution_count": 47,
   "metadata": {
    "scrolled": true
   },
   "outputs": [
    {
     "data": {
      "text/plain": [
       "Unknown                                 2624\n",
       "US Army                                  139\n",
       "Bank of America                          115\n",
       "IBM                                       72\n",
       "AT&T                                      61\n",
       "Kaiser Permanente                         61\n",
       "UPS                                       58\n",
       "Wells Fargo                               57\n",
       "USAF                                      56\n",
       "US Air Force                              55\n",
       "Self Employed                             49\n",
       "United States Air Force                   48\n",
       "Walmart                                   47\n",
       "Lockheed Martin                           46\n",
       "State of California                       45\n",
       "Verizon Wireless                          43\n",
       "U.S. Army                                 42\n",
       "USPS                                      41\n",
       "Walgreens                                 41\n",
       "US ARMY                                   40\n",
       "Self                                      39\n",
       "JPMorgan Chase                            38\n",
       "Best Buy                                  38\n",
       "JP Morgan Chase                           38\n",
       "Target                                    38\n",
       "Department of Defense                     37\n",
       "US Navy                                   36\n",
       "Verizon                                   35\n",
       "United States Army                        34\n",
       "Booz Allen Hamilton                       34\n",
       "                                        ... \n",
       "xerox cor.                                 1\n",
       "Atlantis Homes                             1\n",
       "MARR Inc.                                  1\n",
       "HNW                                        1\n",
       "Central Texas Medical Center               1\n",
       "Mauck Zantzinger & Associates              1\n",
       "Hitachi                                    1\n",
       "St michael church                          1\n",
       "Phams Car Care Center, Inc.                1\n",
       "Rea & Associates Inc.                      1\n",
       "Mt. Carmel Health System                   1\n",
       "NuVusion Engineering                       1\n",
       "Praxair                                    1\n",
       "JS Direct Marketing                        1\n",
       "Kforce (contractor with ITT)               1\n",
       "Enagic                                     1\n",
       "National Notary Association                1\n",
       "Moore Physical Therapy                     1\n",
       "Extendicare Health Services                1\n",
       "smiths                                     1\n",
       "Dell Computer, Inc                         1\n",
       "Wild Birds and Gardens                     1\n",
       "wilson ford and lovelace law officce       1\n",
       "Green Building Services                    1\n",
       "american battery charging                  1\n",
       "Lehman Title & Escrow                      1\n",
       "navigant credit union                      1\n",
       "Penava Mech. Corp.                         1\n",
       "Novato Unified School District             1\n",
       "us doj federal bureau of prisons           1\n",
       "Name: emp_title, Length: 30660, dtype: int64"
      ]
     },
     "execution_count": 47,
     "metadata": {},
     "output_type": "execute_result"
    }
   ],
   "source": [
    "df.emp_title.value_counts()"
   ]
  },
  {
   "cell_type": "markdown",
   "metadata": {},
   "source": [
    "I decided to leave this column as an object"
   ]
  },
  {
   "cell_type": "markdown",
   "metadata": {},
   "source": [
    "### Explore emp_length"
   ]
  },
  {
   "cell_type": "code",
   "execution_count": 48,
   "metadata": {},
   "outputs": [
    {
     "data": {
      "text/plain": [
       "10+ years    9369\n",
       "< 1 year     5062\n",
       "2 years      4743\n",
       "3 years      4364\n",
       "4 years      3649\n",
       "1 year       3595\n",
       "5 years      3458\n",
       "6 years      2375\n",
       "7 years      1875\n",
       "8 years      1592\n",
       "9 years      1341\n",
       "n/a          1112\n",
       "Name: emp_length, dtype: int64"
      ]
     },
     "execution_count": 48,
     "metadata": {},
     "output_type": "execute_result"
    }
   ],
   "source": [
    "df.emp_length.value_counts()"
   ]
  },
  {
   "cell_type": "code",
   "execution_count": 49,
   "metadata": {
    "collapsed": true
   },
   "outputs": [],
   "source": [
    "# convert emp_length column to category\n",
    "df.emp_length = df.emp_length.astype('category')"
   ]
  },
  {
   "cell_type": "markdown",
   "metadata": {},
   "source": [
    "### Explore home_ownership"
   ]
  },
  {
   "cell_type": "code",
   "execution_count": 50,
   "metadata": {},
   "outputs": [
    {
     "data": {
      "text/plain": [
       "RENT        20181\n",
       "MORTGAGE    18959\n",
       "OWN          3251\n",
       "OTHER         136\n",
       "NONE            8\n",
       "Name: home_ownership, dtype: int64"
      ]
     },
     "execution_count": 50,
     "metadata": {},
     "output_type": "execute_result"
    }
   ],
   "source": [
    "df.home_ownership.value_counts()"
   ]
  },
  {
   "cell_type": "code",
   "execution_count": 51,
   "metadata": {
    "collapsed": true
   },
   "outputs": [],
   "source": [
    "# Convert to category\n",
    "df.home_ownership = df.home_ownership.astype('category')"
   ]
  },
  {
   "cell_type": "markdown",
   "metadata": {},
   "source": [
    "### Explore verification_status"
   ]
  },
  {
   "cell_type": "code",
   "execution_count": 52,
   "metadata": {},
   "outputs": [
    {
     "data": {
      "text/plain": [
       "Not Verified       18758\n",
       "Verified           13471\n",
       "Source Verified    10306\n",
       "Name: verification_status, dtype: int64"
      ]
     },
     "execution_count": 52,
     "metadata": {},
     "output_type": "execute_result"
    }
   ],
   "source": [
    "df.verification_status.value_counts()"
   ]
  },
  {
   "cell_type": "code",
   "execution_count": 53,
   "metadata": {
    "collapsed": true
   },
   "outputs": [],
   "source": [
    "# Convert to category\n",
    "df.verification_status = df.verification_status.astype('category')"
   ]
  },
  {
   "cell_type": "markdown",
   "metadata": {},
   "source": [
    "### Explore issue_d"
   ]
  },
  {
   "cell_type": "code",
   "execution_count": 54,
   "metadata": {
    "scrolled": true
   },
   "outputs": [
    {
     "data": {
      "text/plain": [
       "11-Dec    2267\n",
       "11-Nov    2232\n",
       "11-Oct    2118\n",
       "11-Sep    2067\n",
       "11-Aug    1934\n",
       "11-Jul    1875\n",
       "11-Jun    1835\n",
       "11-May    1704\n",
       "11-Apr    1563\n",
       "11-Mar    1448\n",
       "11-Jan    1380\n",
       "10-Dec    1335\n",
       "11-Feb    1298\n",
       "10-Oct    1232\n",
       "10-Nov    1224\n",
       "10-Jul    1204\n",
       "10-Sep    1189\n",
       "10-Aug    1175\n",
       "10-Jun    1105\n",
       "10-May     989\n",
       "10-Apr     912\n",
       "10-Mar     828\n",
       "10-Feb     682\n",
       "9-Nov      662\n",
       "10-Jan     662\n",
       "9-Dec      658\n",
       "9-Oct      604\n",
       "9-Sep      507\n",
       "9-Aug      446\n",
       "9-Jul      411\n",
       "9-Jun      406\n",
       "8-Mar      402\n",
       "9-May      359\n",
       "9-Apr      333\n",
       "9-Mar      324\n",
       "8-Feb      306\n",
       "8-Jan      305\n",
       "9-Feb      302\n",
       "9-Jan      269\n",
       "8-Apr      259\n",
       "8-Dec      253\n",
       "8-Nov      209\n",
       "7-Dec      172\n",
       "8-Jul      141\n",
       "8-Jun      124\n",
       "8-Oct      122\n",
       "8-May      115\n",
       "7-Nov      112\n",
       "7-Oct      105\n",
       "8-Aug      100\n",
       "7-Aug       74\n",
       "7-Jul       63\n",
       "8-Sep       57\n",
       "7-Sep       53\n",
       "7-Jun       24\n",
       "Name: issue_d, dtype: int64"
      ]
     },
     "execution_count": 54,
     "metadata": {},
     "output_type": "execute_result"
    }
   ],
   "source": [
    "df.issue_d.value_counts()"
   ]
  },
  {
   "cell_type": "markdown",
   "metadata": {},
   "source": [
    "### Explore loan_status"
   ]
  },
  {
   "cell_type": "code",
   "execution_count": 55,
   "metadata": {},
   "outputs": [
    {
     "data": {
      "text/plain": [
       "Fully Paid                                             34116\n",
       "Charged Off                                             5670\n",
       "Does not meet the credit policy. Status:Fully Paid      1988\n",
       "Does not meet the credit policy. Status:Charged Off      761\n",
       "Name: loan_status, dtype: int64"
      ]
     },
     "execution_count": 55,
     "metadata": {},
     "output_type": "execute_result"
    }
   ],
   "source": [
    "df.loan_status.value_counts()"
   ]
  },
  {
   "cell_type": "code",
   "execution_count": 56,
   "metadata": {
    "collapsed": true
   },
   "outputs": [],
   "source": [
    "# Convert to category\n",
    "df.loan_status = df.loan_status.astype('category')"
   ]
  },
  {
   "cell_type": "markdown",
   "metadata": {},
   "source": [
    "### Explore pymnt_plan"
   ]
  },
  {
   "cell_type": "code",
   "execution_count": 57,
   "metadata": {},
   "outputs": [
    {
     "data": {
      "text/plain": [
       "n    42535\n",
       "Name: pymnt_plan, dtype: int64"
      ]
     },
     "execution_count": 57,
     "metadata": {},
     "output_type": "execute_result"
    }
   ],
   "source": [
    "df.pymnt_plan.value_counts()"
   ]
  },
  {
   "cell_type": "markdown",
   "metadata": {},
   "source": [
    "Since all columns have the same value, I removed this column. "
   ]
  },
  {
   "cell_type": "code",
   "execution_count": 58,
   "metadata": {
    "collapsed": true
   },
   "outputs": [],
   "source": [
    "df = df.drop('pymnt_plan', 1)"
   ]
  },
  {
   "cell_type": "markdown",
   "metadata": {},
   "source": [
    "### Explore purpose"
   ]
  },
  {
   "cell_type": "code",
   "execution_count": 59,
   "metadata": {
    "scrolled": true
   },
   "outputs": [
    {
     "data": {
      "text/plain": [
       "debt_consolidation    19776\n",
       "credit_card            5477\n",
       "other                  4425\n",
       "home_improvement       3199\n",
       "major_purchase         2311\n",
       "small_business         1992\n",
       "car                    1615\n",
       "wedding                1004\n",
       "medical                 753\n",
       "moving                  629\n",
       "house                   426\n",
       "educational             422\n",
       "vacation                400\n",
       "renewable_energy        106\n",
       "Name: purpose, dtype: int64"
      ]
     },
     "execution_count": 59,
     "metadata": {},
     "output_type": "execute_result"
    }
   ],
   "source": [
    "df.purpose.value_counts()"
   ]
  },
  {
   "cell_type": "code",
   "execution_count": 60,
   "metadata": {
    "collapsed": true
   },
   "outputs": [],
   "source": [
    "# convert to category\n",
    "df.purpose = df.purpose.astype('category')"
   ]
  },
  {
   "cell_type": "markdown",
   "metadata": {},
   "source": [
    "### Explore title"
   ]
  },
  {
   "cell_type": "code",
   "execution_count": 62,
   "metadata": {
    "scrolled": true
   },
   "outputs": [
    {
     "data": {
      "text/plain": [
       "Debt Consolidation                                                            2259\n",
       "Debt Consolidation Loan                                                       1760\n",
       "Personal Loan                                                                  708\n",
       "Consolidation                                                                  547\n",
       "debt consolidation                                                             532\n",
       "Home Improvement                                                               373\n",
       "Credit Card Consolidation                                                      370\n",
       "Debt consolidation                                                             347\n",
       "Small Business Loan                                                            333\n",
       "Personal                                                                       330\n",
       "Credit Card Loan                                                               323\n",
       "personal loan                                                                  266\n",
       "Consolidation Loan                                                             264\n",
       "Home Improvement Loan                                                          255\n",
       "personal                                                                       247\n",
       "Loan                                                                           218\n",
       "consolidation                                                                  217\n",
       "Wedding Loan                                                                   217\n",
       "Car Loan                                                                       206\n",
       "Other Loan                                                                     192\n",
       "Credit Card Payoff                                                             164\n",
       "Wedding                                                                        160\n",
       "Credit Card Refinance                                                          147\n",
       "Major Purchase Loan                                                            146\n",
       "Consolidate                                                                    141\n",
       "Medical                                                                        124\n",
       "Credit Card                                                                    124\n",
       "home improvement                                                               117\n",
       "My Loan                                                                         96\n",
       "Credit Cards                                                                    95\n",
       "                                                                              ... \n",
       "High Interest Credit Card consolidation                                          1\n",
       "Debt Saving                                                                      1\n",
       "Heather School Expenses Loan                                                     1\n",
       "Knock Out the Credit Cards                                                       1\n",
       "2011 Insurance and Debt Consolidation                                            1\n",
       "Labors of Love                                                                   1\n",
       "Operation Pay Off Parents                                                        1\n",
       "My little share to mother earth. Green remodeling of studio in Miami Beach       1\n",
       "Unsecured personal                                                               1\n",
       "LR Discovery                                                                     1\n",
       "Small business Loan                                                              1\n",
       "Rest and Rejuvenation                                                            1\n",
       "winter bills                                                                     1\n",
       "Hungary                                                                          1\n",
       "Refinance of Timeshare                                                           1\n",
       "A GIFT THAT WILL KEEP GIVING                                                     1\n",
       "One loan Only                                                                    1\n",
       "NEED TO STOP PAYING 21% INTEREST TO THE BIG 3 BANKS                              1\n",
       "Tray Engagement Ring                                                             1\n",
       "Credit Card repay                                                                1\n",
       "Cards - Refinanced                                                               1\n",
       "Jason June Losn                                                                  1\n",
       "citi visa/ paioner loan                                                          1\n",
       "Consolidate Remaining Debt                                                       1\n",
       "Van Loan Refinance                                                               1\n",
       "Start Up Costs                                                                   1\n",
       "Recent Graduate - Debt Consolidation                                             1\n",
       "consolidate + extra                                                              1\n",
       "Time to Make Some Good Decisions                                                 1\n",
       "pay off wheaton loan                                                             1\n",
       "Name: title, Length: 21253, dtype: int64"
      ]
     },
     "execution_count": 62,
     "metadata": {},
     "output_type": "execute_result"
    }
   ],
   "source": [
    "df.title.value_counts()"
   ]
  },
  {
   "cell_type": "markdown",
   "metadata": {},
   "source": [
    "This column seems to be redundant of the purpose column. However, I am going to keep it for now because it might provide some opportunities for text mining. "
   ]
  },
  {
   "cell_type": "markdown",
   "metadata": {},
   "source": [
    "### Explore addr_state"
   ]
  },
  {
   "cell_type": "code",
   "execution_count": 63,
   "metadata": {
    "scrolled": true
   },
   "outputs": [
    {
     "data": {
      "text/plain": [
       "CA    7429\n",
       "NY    4065\n",
       "FL    3104\n",
       "TX    2915\n",
       "NJ    1988\n",
       "IL    1672\n",
       "PA    1651\n",
       "GA    1503\n",
       "VA    1487\n",
       "MA    1438\n",
       "OH    1329\n",
       "MD    1125\n",
       "AZ     933\n",
       "WA     888\n",
       "CO     857\n",
       "NC     830\n",
       "CT     816\n",
       "MI     796\n",
       "MO     765\n",
       "MN     652\n",
       "NV     527\n",
       "WI     516\n",
       "SC     489\n",
       "AL     484\n",
       "OR     468\n",
       "LA     461\n",
       "KY     359\n",
       "OK     317\n",
       "KS     298\n",
       "UT     278\n",
       "AR     261\n",
       "DC     224\n",
       "RI     208\n",
       "NM     205\n",
       "NH     188\n",
       "WV     187\n",
       "HI     181\n",
       "DE     136\n",
       "MT      96\n",
       "WY      87\n",
       "AK      86\n",
       "SD      67\n",
       "VT      57\n",
       "TN      32\n",
       "MS      26\n",
       "IN      19\n",
       "IA      12\n",
       "NE      11\n",
       "ID       9\n",
       "ME       3\n",
       "Name: addr_state, dtype: int64"
      ]
     },
     "execution_count": 63,
     "metadata": {},
     "output_type": "execute_result"
    }
   ],
   "source": [
    "df.addr_state.value_counts()"
   ]
  },
  {
   "cell_type": "code",
   "execution_count": 64,
   "metadata": {
    "collapsed": true
   },
   "outputs": [],
   "source": [
    "# convert to category\n",
    "df.addr_state = df.addr_state.astype('category')"
   ]
  },
  {
   "cell_type": "markdown",
   "metadata": {},
   "source": [
    "## Results"
   ]
  },
  {
   "cell_type": "code",
   "execution_count": 65,
   "metadata": {},
   "outputs": [
    {
     "name": "stdout",
     "output_type": "stream",
     "text": [
      "<class 'pandas.core.frame.DataFrame'>\n",
      "Int64Index: 42535 entries, 0 to 42537\n",
      "Data columns (total 17 columns):\n",
      "funded_amnt            42535 non-null float64\n",
      "term                   42535 non-null category\n",
      "int_rate               42535 non-null float64\n",
      "installment            42535 non-null float64\n",
      "grade                  42535 non-null category\n",
      "sub_grade              42535 non-null category\n",
      "emp_title              42535 non-null object\n",
      "emp_length             42535 non-null category\n",
      "home_ownership         42535 non-null category\n",
      "annual_inc             42535 non-null float64\n",
      "verification_status    42535 non-null category\n",
      "issue_d                42535 non-null object\n",
      "loan_status            42535 non-null category\n",
      "purpose                42535 non-null category\n",
      "title                  42535 non-null object\n",
      "addr_state             42535 non-null category\n",
      "dti                    42535 non-null float64\n",
      "dtypes: category(9), float64(5), object(3)\n",
      "memory usage: 3.3+ MB\n"
     ]
    }
   ],
   "source": [
    "df.info()"
   ]
  },
  {
   "cell_type": "code",
   "execution_count": 66,
   "metadata": {},
   "outputs": [
    {
     "data": {
      "text/html": [
       "<div>\n",
       "<style>\n",
       "    .dataframe thead tr:only-child th {\n",
       "        text-align: right;\n",
       "    }\n",
       "\n",
       "    .dataframe thead th {\n",
       "        text-align: left;\n",
       "    }\n",
       "\n",
       "    .dataframe tbody tr th {\n",
       "        vertical-align: top;\n",
       "    }\n",
       "</style>\n",
       "<table border=\"1\" class=\"dataframe\">\n",
       "  <thead>\n",
       "    <tr style=\"text-align: right;\">\n",
       "      <th></th>\n",
       "      <th>funded_amnt</th>\n",
       "      <th>int_rate</th>\n",
       "      <th>installment</th>\n",
       "      <th>annual_inc</th>\n",
       "      <th>dti</th>\n",
       "    </tr>\n",
       "  </thead>\n",
       "  <tbody>\n",
       "    <tr>\n",
       "      <th>count</th>\n",
       "      <td>42535.000000</td>\n",
       "      <td>42535.000000</td>\n",
       "      <td>42535.000000</td>\n",
       "      <td>4.253500e+04</td>\n",
       "      <td>42535.000000</td>\n",
       "    </tr>\n",
       "    <tr>\n",
       "      <th>mean</th>\n",
       "      <td>10821.585753</td>\n",
       "      <td>0.121650</td>\n",
       "      <td>322.623063</td>\n",
       "      <td>6.913656e+04</td>\n",
       "      <td>13.373043</td>\n",
       "    </tr>\n",
       "    <tr>\n",
       "      <th>std</th>\n",
       "      <td>7146.914675</td>\n",
       "      <td>0.037079</td>\n",
       "      <td>208.927216</td>\n",
       "      <td>6.409334e+04</td>\n",
       "      <td>6.726315</td>\n",
       "    </tr>\n",
       "    <tr>\n",
       "      <th>min</th>\n",
       "      <td>500.000000</td>\n",
       "      <td>0.054200</td>\n",
       "      <td>15.670000</td>\n",
       "      <td>1.896000e+03</td>\n",
       "      <td>0.000000</td>\n",
       "    </tr>\n",
       "    <tr>\n",
       "      <th>25%</th>\n",
       "      <td>5000.000000</td>\n",
       "      <td>0.096300</td>\n",
       "      <td>165.520000</td>\n",
       "      <td>4.000000e+04</td>\n",
       "      <td>8.200000</td>\n",
       "    </tr>\n",
       "    <tr>\n",
       "      <th>50%</th>\n",
       "      <td>9600.000000</td>\n",
       "      <td>0.119900</td>\n",
       "      <td>277.690000</td>\n",
       "      <td>5.900000e+04</td>\n",
       "      <td>13.470000</td>\n",
       "    </tr>\n",
       "    <tr>\n",
       "      <th>75%</th>\n",
       "      <td>15000.000000</td>\n",
       "      <td>0.147200</td>\n",
       "      <td>428.180000</td>\n",
       "      <td>8.250000e+04</td>\n",
       "      <td>18.680000</td>\n",
       "    </tr>\n",
       "    <tr>\n",
       "      <th>max</th>\n",
       "      <td>35000.000000</td>\n",
       "      <td>0.245900</td>\n",
       "      <td>1305.190000</td>\n",
       "      <td>6.000000e+06</td>\n",
       "      <td>29.990000</td>\n",
       "    </tr>\n",
       "  </tbody>\n",
       "</table>\n",
       "</div>"
      ],
      "text/plain": [
       "        funded_amnt      int_rate   installment    annual_inc           dti\n",
       "count  42535.000000  42535.000000  42535.000000  4.253500e+04  42535.000000\n",
       "mean   10821.585753      0.121650    322.623063  6.913656e+04     13.373043\n",
       "std     7146.914675      0.037079    208.927216  6.409334e+04      6.726315\n",
       "min      500.000000      0.054200     15.670000  1.896000e+03      0.000000\n",
       "25%     5000.000000      0.096300    165.520000  4.000000e+04      8.200000\n",
       "50%     9600.000000      0.119900    277.690000  5.900000e+04     13.470000\n",
       "75%    15000.000000      0.147200    428.180000  8.250000e+04     18.680000\n",
       "max    35000.000000      0.245900   1305.190000  6.000000e+06     29.990000"
      ]
     },
     "execution_count": 66,
     "metadata": {},
     "output_type": "execute_result"
    }
   ],
   "source": [
    "df.describe()"
   ]
  }
 ],
 "metadata": {
  "kernelspec": {
   "display_name": "Python 3",
   "language": "python",
   "name": "python3"
  },
  "language_info": {
   "codemirror_mode": {
    "name": "ipython",
    "version": 3
   },
   "file_extension": ".py",
   "mimetype": "text/x-python",
   "name": "python",
   "nbconvert_exporter": "python",
   "pygments_lexer": "ipython3",
   "version": "3.6.1"
  }
 },
 "nbformat": 4,
 "nbformat_minor": 2
}
