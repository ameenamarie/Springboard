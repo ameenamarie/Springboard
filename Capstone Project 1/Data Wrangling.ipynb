{
 "cells": [
  {
   "cell_type": "markdown",
   "metadata": {},
   "source": [
    "# Capstone Project 1: Data Wrangling"
   ]
  },
  {
   "cell_type": "markdown",
   "metadata": {},
   "source": [
    "## Data Wrangling\n",
    "\n",
    "The dataset downloaded from Lending Club was relatively clean aside from a high number of empty columns. I removed all but 17 of the columns from the original dataset. The columns removed were either empty, contained mostly null values or were not of interest to the current project.\n",
    "\n",
    "### Import Packages and Dataset"
   ]
  },
  {
   "cell_type": "code",
   "execution_count": 1,
   "metadata": {
    "collapsed": true
   },
   "outputs": [],
   "source": [
    "# Import packages\n",
    "import pandas as pd\n",
    "import matplotlib.pyplot as plt\n",
    "from scipy import stats"
   ]
  },
  {
   "cell_type": "code",
   "execution_count": 2,
   "metadata": {},
   "outputs": [
    {
     "name": "stdout",
     "output_type": "stream",
     "text": [
      "Populating the interactive namespace from numpy and matplotlib\n"
     ]
    }
   ],
   "source": [
    "# Import dataframe\n",
    "df = pd.read_csv('LoanStats3a.csv', header = 1, dtype={'next_pymnt_d': object, 'id': object})\n",
    "%pylab inline"
   ]
  },
  {
   "cell_type": "markdown",
   "metadata": {},
   "source": [
    "### Clean Dataframe\n",
    "\n",
    "#### Drop columns and rows with no data \n",
    "\n",
    "Looking at the dataset, at least half of the columns seem to have all null values. I removed those columns using .dropna(). I also dropped the columns that only had 158 non-null values. This left me with 57 columns. "
   ]
  },
  {
   "cell_type": "code",
   "execution_count": 3,
   "metadata": {
    "collapsed": true
   },
   "outputs": [],
   "source": [
    "# Drop all columns and rows with 0 non-null values \n",
    "df = df.dropna(axis = 1, how = 'all')\n",
    "df = df.dropna(axis = 0, how = 'all')"
   ]
  },
  {
   "cell_type": "code",
   "execution_count": 4,
   "metadata": {
    "collapsed": true,
    "scrolled": true
   },
   "outputs": [],
   "source": [
    "# Drop columns with only 158 non-null values\n",
    "df = df.iloc[:, 1:58]"
   ]
  },
  {
   "cell_type": "markdown",
   "metadata": {},
   "source": [
    "### Drop additional columns\n",
    "\n",
    "In order to focus my project, I decided to drop any columns that were not of interest to the project. This left me with 18 columns. \n",
    "\n",
    "I used the Lending Club data dictionary to help me decide which columns to remove from the dataframe. \n",
    "Data dictionary: https://resources.lendingclub.com/LCDataDictionary.xlsx"
   ]
  },
  {
   "cell_type": "code",
   "execution_count": 5,
   "metadata": {
    "collapsed": true,
    "scrolled": true
   },
   "outputs": [],
   "source": [
    "# Drop columns\n",
    "df = df.iloc[:, 1:23]"
   ]
  },
  {
   "cell_type": "code",
   "execution_count": 6,
   "metadata": {
    "collapsed": true,
    "scrolled": true
   },
   "outputs": [],
   "source": [
    "# Drop additional columns\n",
    "df = df.drop('funded_amnt_inv', 1)\n",
    "df = df.drop('desc', 1)\n",
    "df = df.drop('zip_code', 1)\n",
    "df = df.drop('delinq_2yrs', 1)"
   ]
  },
  {
   "cell_type": "markdown",
   "metadata": {
    "collapsed": true
   },
   "source": [
    "#### Remove empty rows\n",
    "\n",
    "I noticed that while most rows had 42535 non-null objects, there were 42538 entries in the dataframe. I used .isnull() to find and remove the 3 empty rows. "
   ]
  },
  {
   "cell_type": "code",
   "execution_count": 7,
   "metadata": {},
   "outputs": [
    {
     "data": {
      "text/html": [
       "<div>\n",
       "<style>\n",
       "    .dataframe thead tr:only-child th {\n",
       "        text-align: right;\n",
       "    }\n",
       "\n",
       "    .dataframe thead th {\n",
       "        text-align: left;\n",
       "    }\n",
       "\n",
       "    .dataframe tbody tr th {\n",
       "        vertical-align: top;\n",
       "    }\n",
       "</style>\n",
       "<table border=\"1\" class=\"dataframe\">\n",
       "  <thead>\n",
       "    <tr style=\"text-align: right;\">\n",
       "      <th></th>\n",
       "      <th>funded_amnt</th>\n",
       "      <th>term</th>\n",
       "      <th>int_rate</th>\n",
       "      <th>installment</th>\n",
       "      <th>grade</th>\n",
       "      <th>sub_grade</th>\n",
       "      <th>emp_title</th>\n",
       "      <th>emp_length</th>\n",
       "      <th>home_ownership</th>\n",
       "      <th>annual_inc</th>\n",
       "      <th>verification_status</th>\n",
       "      <th>issue_d</th>\n",
       "      <th>loan_status</th>\n",
       "      <th>pymnt_plan</th>\n",
       "      <th>purpose</th>\n",
       "      <th>title</th>\n",
       "      <th>addr_state</th>\n",
       "      <th>dti</th>\n",
       "    </tr>\n",
       "  </thead>\n",
       "  <tbody>\n",
       "    <tr>\n",
       "      <th>39788</th>\n",
       "      <td>NaN</td>\n",
       "      <td>NaN</td>\n",
       "      <td>NaN</td>\n",
       "      <td>NaN</td>\n",
       "      <td>NaN</td>\n",
       "      <td>NaN</td>\n",
       "      <td>NaN</td>\n",
       "      <td>NaN</td>\n",
       "      <td>NaN</td>\n",
       "      <td>NaN</td>\n",
       "      <td>NaN</td>\n",
       "      <td>NaN</td>\n",
       "      <td>NaN</td>\n",
       "      <td>NaN</td>\n",
       "      <td>NaN</td>\n",
       "      <td>NaN</td>\n",
       "      <td>NaN</td>\n",
       "      <td>NaN</td>\n",
       "    </tr>\n",
       "    <tr>\n",
       "      <th>42540</th>\n",
       "      <td>NaN</td>\n",
       "      <td>NaN</td>\n",
       "      <td>NaN</td>\n",
       "      <td>NaN</td>\n",
       "      <td>NaN</td>\n",
       "      <td>NaN</td>\n",
       "      <td>NaN</td>\n",
       "      <td>NaN</td>\n",
       "      <td>NaN</td>\n",
       "      <td>NaN</td>\n",
       "      <td>NaN</td>\n",
       "      <td>NaN</td>\n",
       "      <td>NaN</td>\n",
       "      <td>NaN</td>\n",
       "      <td>NaN</td>\n",
       "      <td>NaN</td>\n",
       "      <td>NaN</td>\n",
       "      <td>NaN</td>\n",
       "    </tr>\n",
       "    <tr>\n",
       "      <th>42541</th>\n",
       "      <td>NaN</td>\n",
       "      <td>NaN</td>\n",
       "      <td>NaN</td>\n",
       "      <td>NaN</td>\n",
       "      <td>NaN</td>\n",
       "      <td>NaN</td>\n",
       "      <td>NaN</td>\n",
       "      <td>NaN</td>\n",
       "      <td>NaN</td>\n",
       "      <td>NaN</td>\n",
       "      <td>NaN</td>\n",
       "      <td>NaN</td>\n",
       "      <td>NaN</td>\n",
       "      <td>NaN</td>\n",
       "      <td>NaN</td>\n",
       "      <td>NaN</td>\n",
       "      <td>NaN</td>\n",
       "      <td>NaN</td>\n",
       "    </tr>\n",
       "  </tbody>\n",
       "</table>\n",
       "</div>"
      ],
      "text/plain": [
       "       funded_amnt term int_rate  installment grade sub_grade emp_title  \\\n",
       "39788          NaN  NaN      NaN          NaN   NaN       NaN       NaN   \n",
       "42540          NaN  NaN      NaN          NaN   NaN       NaN       NaN   \n",
       "42541          NaN  NaN      NaN          NaN   NaN       NaN       NaN   \n",
       "\n",
       "      emp_length home_ownership  annual_inc verification_status issue_d  \\\n",
       "39788        NaN            NaN         NaN                 NaN     NaN   \n",
       "42540        NaN            NaN         NaN                 NaN     NaN   \n",
       "42541        NaN            NaN         NaN                 NaN     NaN   \n",
       "\n",
       "      loan_status pymnt_plan purpose title addr_state  dti  \n",
       "39788         NaN        NaN     NaN   NaN        NaN  NaN  \n",
       "42540         NaN        NaN     NaN   NaN        NaN  NaN  \n",
       "42541         NaN        NaN     NaN   NaN        NaN  NaN  "
      ]
     },
     "execution_count": 7,
     "metadata": {},
     "output_type": "execute_result"
    }
   ],
   "source": [
    "# Identify the rows with missing data\n",
    "nans = lambda df: df[df.isnull().all(axis=1)]\n",
    "nans(df)"
   ]
  },
  {
   "cell_type": "code",
   "execution_count": 8,
   "metadata": {
    "collapsed": true,
    "scrolled": true
   },
   "outputs": [],
   "source": [
    "# Drop empty rows \n",
    "df = df.drop([39788, 42540, 42541])"
   ]
  },
  {
   "cell_type": "markdown",
   "metadata": {
    "collapsed": true
   },
   "source": [
    "### Fill missing data\n",
    "#### Employment Title\n",
    "\n",
    "The employment title column is missing 2624 entries. I decided to replace those with 'Unknown'. I also replaced any values with a count of less than 20 to 'Other'."
   ]
  },
  {
   "cell_type": "code",
   "execution_count": 9,
   "metadata": {
    "collapsed": true
   },
   "outputs": [],
   "source": [
    "# Replace NaN with 'Unknown'\n",
    "df['emp_title'] = df['emp_title'].fillna('Unknown')"
   ]
  },
  {
   "cell_type": "code",
   "execution_count": 10,
   "metadata": {
    "collapsed": true
   },
   "outputs": [],
   "source": [
    "# Replace values of < 20 with 'Other'\n",
    "df = df.assign(emp_title=df.groupby('emp_title')['emp_title'].transform(lambda x: x if x.size>=20 else 'Other'))"
   ]
  },
  {
   "cell_type": "markdown",
   "metadata": {},
   "source": [
    "#### Annual Income\n",
    "\n",
    "The Annual Income column is missing 4 values. I decided to use mean to fill those missing values"
   ]
  },
  {
   "cell_type": "code",
   "execution_count": 11,
   "metadata": {},
   "outputs": [
    {
     "data": {
      "text/plain": [
       "69136.55642025822"
      ]
     },
     "execution_count": 11,
     "metadata": {},
     "output_type": "execute_result"
    }
   ],
   "source": [
    "# Calculate the mean of annual_inc\n",
    "inc_mean = df['annual_inc'].mean()\n",
    "inc_mean"
   ]
  },
  {
   "cell_type": "code",
   "execution_count": 12,
   "metadata": {
    "collapsed": true
   },
   "outputs": [],
   "source": [
    "# Replace all the missing values in annual_inc with the mean\n",
    "df['annual_inc'] = df['annual_inc'].fillna(inc_mean)"
   ]
  },
  {
   "cell_type": "markdown",
   "metadata": {},
   "source": [
    "#### Title\n",
    "\n",
    "The title column is missing 12 values. I decided to also replace these NaN values with 'Unknown'"
   ]
  },
  {
   "cell_type": "code",
   "execution_count": 13,
   "metadata": {
    "collapsed": true
   },
   "outputs": [],
   "source": [
    "## Replace NaN with 'Unknown'\n",
    "df['title'] = df['title'].fillna('Unknown')"
   ]
  },
  {
   "cell_type": "code",
   "execution_count": 14,
   "metadata": {
    "collapsed": true
   },
   "outputs": [],
   "source": [
    "# Replace values of < 20 with 'Other'\n",
    "df = df.assign(title=df.groupby('title')['title'].transform(lambda x: x if x.size>=20 else 'Other'))"
   ]
  },
  {
   "cell_type": "markdown",
   "metadata": {},
   "source": [
    "### Additional Exploration\n",
    "\n",
    "In order to see if any additional columns needed cleaning, I explored each column individually. "
   ]
  },
  {
   "cell_type": "markdown",
   "metadata": {},
   "source": [
    "#### Explore int_rate"
   ]
  },
  {
   "cell_type": "code",
   "execution_count": 15,
   "metadata": {
    "collapsed": true
   },
   "outputs": [],
   "source": [
    "# convert the percentages to a float\n",
    "df['int_rate'] = df['int_rate'].str.rstrip('%').astype('float')/100.00"
   ]
  },
  {
   "cell_type": "markdown",
   "metadata": {},
   "source": [
    "#### Explore installment"
   ]
  },
  {
   "cell_type": "code",
   "execution_count": 16,
   "metadata": {
    "collapsed": true
   },
   "outputs": [],
   "source": [
    "# convert installment to a float\n",
    "df.installment = df.installment.astype('float')"
   ]
  },
  {
   "cell_type": "markdown",
   "metadata": {},
   "source": [
    "#### Explore issue_d"
   ]
  },
  {
   "cell_type": "code",
   "execution_count": 17,
   "metadata": {
    "scrolled": true
   },
   "outputs": [
    {
     "data": {
      "text/plain": [
       "11-Dec    2267\n",
       "11-Nov    2232\n",
       "11-Oct    2118\n",
       "11-Sep    2067\n",
       "11-Aug    1934\n",
       "11-Jul    1875\n",
       "11-Jun    1835\n",
       "11-May    1704\n",
       "11-Apr    1563\n",
       "11-Mar    1448\n",
       "11-Jan    1380\n",
       "10-Dec    1335\n",
       "11-Feb    1298\n",
       "10-Oct    1232\n",
       "10-Nov    1224\n",
       "10-Jul    1204\n",
       "10-Sep    1189\n",
       "10-Aug    1175\n",
       "10-Jun    1105\n",
       "10-May     989\n",
       "10-Apr     912\n",
       "10-Mar     828\n",
       "10-Feb     682\n",
       "9-Nov      662\n",
       "10-Jan     662\n",
       "9-Dec      658\n",
       "9-Oct      604\n",
       "9-Sep      507\n",
       "9-Aug      446\n",
       "9-Jul      411\n",
       "9-Jun      406\n",
       "8-Mar      402\n",
       "9-May      359\n",
       "9-Apr      333\n",
       "9-Mar      324\n",
       "8-Feb      306\n",
       "8-Jan      305\n",
       "9-Feb      302\n",
       "9-Jan      269\n",
       "8-Apr      259\n",
       "8-Dec      253\n",
       "8-Nov      209\n",
       "7-Dec      172\n",
       "8-Jul      141\n",
       "8-Jun      124\n",
       "8-Oct      122\n",
       "8-May      115\n",
       "7-Nov      112\n",
       "7-Oct      105\n",
       "8-Aug      100\n",
       "7-Aug       74\n",
       "7-Jul       63\n",
       "8-Sep       57\n",
       "7-Sep       53\n",
       "7-Jun       24\n",
       "Name: issue_d, dtype: int64"
      ]
     },
     "execution_count": 17,
     "metadata": {},
     "output_type": "execute_result"
    }
   ],
   "source": [
    "df.issue_d.value_counts()"
   ]
  },
  {
   "cell_type": "code",
   "execution_count": 18,
   "metadata": {
    "collapsed": true
   },
   "outputs": [],
   "source": [
    "# Split issue_d into separate columns with year and month in each column\n",
    "df[['issue_year','issue_month']] = df['issue_d'].str.split('-',expand=True)\n",
    "\n",
    "# replace the incorrect years with the correct year format \n",
    "df['issue_year'] = df['issue_year'].replace({'7': '07',\n",
    "                                               '8':'08',\n",
    "                                            '9':'09'})\n",
    "\n",
    "# combine the year and month columns\n",
    "df.issue_d = df.issue_year.map(str) + '-' + df.issue_month"
   ]
  },
  {
   "cell_type": "code",
   "execution_count": 19,
   "metadata": {
    "collapsed": true
   },
   "outputs": [],
   "source": [
    "# Convert issue_d into datetime series\n",
    "df.issue_d = pd.to_datetime(df.issue_d, format='%y-%b')"
   ]
  },
  {
   "cell_type": "markdown",
   "metadata": {},
   "source": [
    "#### Explore loan_status"
   ]
  },
  {
   "cell_type": "code",
   "execution_count": 20,
   "metadata": {},
   "outputs": [
    {
     "data": {
      "text/plain": [
       "Fully Paid                                             34116\n",
       "Charged Off                                             5670\n",
       "Does not meet the credit policy. Status:Fully Paid      1988\n",
       "Does not meet the credit policy. Status:Charged Off      761\n",
       "Name: loan_status, dtype: int64"
      ]
     },
     "execution_count": 20,
     "metadata": {},
     "output_type": "execute_result"
    }
   ],
   "source": [
    "df.loan_status.value_counts()"
   ]
  },
  {
   "cell_type": "code",
   "execution_count": 21,
   "metadata": {},
   "outputs": [
    {
     "data": {
      "text/plain": [
       "Fully Paid     36104\n",
       "Charged Off     6431\n",
       "Name: loan_status, dtype: int64"
      ]
     },
     "execution_count": 21,
     "metadata": {},
     "output_type": "execute_result"
    }
   ],
   "source": [
    "# consolidate to two catagories\n",
    "df['loan_status'] = df['loan_status'].replace({'Does not meet the credit policy. Status:Fully Paid':'Fully Paid',\n",
    "                                               'Does not meet the credit policy. Status:Charged Off':'Charged Off'})\n",
    "df.loan_status.value_counts()"
   ]
  },
  {
   "cell_type": "code",
   "execution_count": 22,
   "metadata": {},
   "outputs": [
    {
     "data": {
      "text/plain": [
       "0    36104\n",
       "1     6431\n",
       "Name: loan_status, dtype: int64"
      ]
     },
     "execution_count": 22,
     "metadata": {},
     "output_type": "execute_result"
    }
   ],
   "source": [
    "# convert fully paid to 0 and charged off to 1\n",
    "df['loan_status'] = df['loan_status'].replace({'Fully Paid':0,\n",
    "                                               'Charged Off':1})\n",
    "df.loan_status.value_counts()"
   ]
  },
  {
   "cell_type": "markdown",
   "metadata": {},
   "source": [
    "#### Explore pymnt_plan"
   ]
  },
  {
   "cell_type": "code",
   "execution_count": 23,
   "metadata": {},
   "outputs": [
    {
     "data": {
      "text/plain": [
       "n    42535\n",
       "Name: pymnt_plan, dtype: int64"
      ]
     },
     "execution_count": 23,
     "metadata": {},
     "output_type": "execute_result"
    }
   ],
   "source": [
    "df.pymnt_plan.value_counts()"
   ]
  },
  {
   "cell_type": "markdown",
   "metadata": {},
   "source": [
    "Since all columns have the same value, I removed this column. "
   ]
  },
  {
   "cell_type": "code",
   "execution_count": 24,
   "metadata": {
    "collapsed": true
   },
   "outputs": [],
   "source": [
    "df = df.drop('pymnt_plan', 1)"
   ]
  },
  {
   "cell_type": "markdown",
   "metadata": {},
   "source": [
    "### Results"
   ]
  },
  {
   "cell_type": "code",
   "execution_count": 25,
   "metadata": {},
   "outputs": [
    {
     "name": "stdout",
     "output_type": "stream",
     "text": [
      "<class 'pandas.core.frame.DataFrame'>\n",
      "Int64Index: 42535 entries, 0 to 42537\n",
      "Data columns (total 19 columns):\n",
      "funded_amnt            42535 non-null float64\n",
      "term                   42535 non-null object\n",
      "int_rate               42535 non-null float64\n",
      "installment            42535 non-null float64\n",
      "grade                  42535 non-null object\n",
      "sub_grade              42535 non-null object\n",
      "emp_title              42535 non-null object\n",
      "emp_length             42535 non-null object\n",
      "home_ownership         42535 non-null object\n",
      "annual_inc             42535 non-null float64\n",
      "verification_status    42535 non-null object\n",
      "issue_d                42535 non-null datetime64[ns]\n",
      "loan_status            42535 non-null int64\n",
      "purpose                42535 non-null object\n",
      "title                  42535 non-null object\n",
      "addr_state             42535 non-null object\n",
      "dti                    42535 non-null float64\n",
      "issue_year             42535 non-null object\n",
      "issue_month            42535 non-null object\n",
      "dtypes: datetime64[ns](1), float64(5), int64(1), object(12)\n",
      "memory usage: 6.5+ MB\n"
     ]
    }
   ],
   "source": [
    "df.info()"
   ]
  },
  {
   "cell_type": "code",
   "execution_count": 26,
   "metadata": {},
   "outputs": [
    {
     "data": {
      "text/html": [
       "<div>\n",
       "<style>\n",
       "    .dataframe thead tr:only-child th {\n",
       "        text-align: right;\n",
       "    }\n",
       "\n",
       "    .dataframe thead th {\n",
       "        text-align: left;\n",
       "    }\n",
       "\n",
       "    .dataframe tbody tr th {\n",
       "        vertical-align: top;\n",
       "    }\n",
       "</style>\n",
       "<table border=\"1\" class=\"dataframe\">\n",
       "  <thead>\n",
       "    <tr style=\"text-align: right;\">\n",
       "      <th></th>\n",
       "      <th>funded_amnt</th>\n",
       "      <th>int_rate</th>\n",
       "      <th>installment</th>\n",
       "      <th>annual_inc</th>\n",
       "      <th>loan_status</th>\n",
       "      <th>dti</th>\n",
       "    </tr>\n",
       "  </thead>\n",
       "  <tbody>\n",
       "    <tr>\n",
       "      <th>count</th>\n",
       "      <td>42535.000000</td>\n",
       "      <td>42535.000000</td>\n",
       "      <td>42535.000000</td>\n",
       "      <td>4.253500e+04</td>\n",
       "      <td>42535.000000</td>\n",
       "      <td>42535.000000</td>\n",
       "    </tr>\n",
       "    <tr>\n",
       "      <th>mean</th>\n",
       "      <td>10821.585753</td>\n",
       "      <td>0.121650</td>\n",
       "      <td>322.623063</td>\n",
       "      <td>6.913656e+04</td>\n",
       "      <td>0.151193</td>\n",
       "      <td>13.373043</td>\n",
       "    </tr>\n",
       "    <tr>\n",
       "      <th>std</th>\n",
       "      <td>7146.914675</td>\n",
       "      <td>0.037079</td>\n",
       "      <td>208.927216</td>\n",
       "      <td>6.409334e+04</td>\n",
       "      <td>0.358241</td>\n",
       "      <td>6.726315</td>\n",
       "    </tr>\n",
       "    <tr>\n",
       "      <th>min</th>\n",
       "      <td>500.000000</td>\n",
       "      <td>0.054200</td>\n",
       "      <td>15.670000</td>\n",
       "      <td>1.896000e+03</td>\n",
       "      <td>0.000000</td>\n",
       "      <td>0.000000</td>\n",
       "    </tr>\n",
       "    <tr>\n",
       "      <th>25%</th>\n",
       "      <td>5000.000000</td>\n",
       "      <td>0.096300</td>\n",
       "      <td>165.520000</td>\n",
       "      <td>4.000000e+04</td>\n",
       "      <td>0.000000</td>\n",
       "      <td>8.200000</td>\n",
       "    </tr>\n",
       "    <tr>\n",
       "      <th>50%</th>\n",
       "      <td>9600.000000</td>\n",
       "      <td>0.119900</td>\n",
       "      <td>277.690000</td>\n",
       "      <td>5.900000e+04</td>\n",
       "      <td>0.000000</td>\n",
       "      <td>13.470000</td>\n",
       "    </tr>\n",
       "    <tr>\n",
       "      <th>75%</th>\n",
       "      <td>15000.000000</td>\n",
       "      <td>0.147200</td>\n",
       "      <td>428.180000</td>\n",
       "      <td>8.250000e+04</td>\n",
       "      <td>0.000000</td>\n",
       "      <td>18.680000</td>\n",
       "    </tr>\n",
       "    <tr>\n",
       "      <th>max</th>\n",
       "      <td>35000.000000</td>\n",
       "      <td>0.245900</td>\n",
       "      <td>1305.190000</td>\n",
       "      <td>6.000000e+06</td>\n",
       "      <td>1.000000</td>\n",
       "      <td>29.990000</td>\n",
       "    </tr>\n",
       "  </tbody>\n",
       "</table>\n",
       "</div>"
      ],
      "text/plain": [
       "        funded_amnt      int_rate   installment    annual_inc   loan_status  \\\n",
       "count  42535.000000  42535.000000  42535.000000  4.253500e+04  42535.000000   \n",
       "mean   10821.585753      0.121650    322.623063  6.913656e+04      0.151193   \n",
       "std     7146.914675      0.037079    208.927216  6.409334e+04      0.358241   \n",
       "min      500.000000      0.054200     15.670000  1.896000e+03      0.000000   \n",
       "25%     5000.000000      0.096300    165.520000  4.000000e+04      0.000000   \n",
       "50%     9600.000000      0.119900    277.690000  5.900000e+04      0.000000   \n",
       "75%    15000.000000      0.147200    428.180000  8.250000e+04      0.000000   \n",
       "max    35000.000000      0.245900   1305.190000  6.000000e+06      1.000000   \n",
       "\n",
       "                dti  \n",
       "count  42535.000000  \n",
       "mean      13.373043  \n",
       "std        6.726315  \n",
       "min        0.000000  \n",
       "25%        8.200000  \n",
       "50%       13.470000  \n",
       "75%       18.680000  \n",
       "max       29.990000  "
      ]
     },
     "execution_count": 26,
     "metadata": {},
     "output_type": "execute_result"
    }
   ],
   "source": [
    "df.describe()"
   ]
  },
  {
   "cell_type": "code",
   "execution_count": 28,
   "metadata": {
    "collapsed": true
   },
   "outputs": [],
   "source": [
    "# Save the cleaned up dataset to a csv\n",
    "df.to_csv('loan_clean.csv')"
   ]
  }
 ],
 "metadata": {
  "kernelspec": {
   "display_name": "Python 3",
   "language": "python",
   "name": "python3"
  },
  "language_info": {
   "codemirror_mode": {
    "name": "ipython",
    "version": 3
   },
   "file_extension": ".py",
   "mimetype": "text/x-python",
   "name": "python",
   "nbconvert_exporter": "python",
   "pygments_lexer": "ipython3",
   "version": "3.6.1"
  }
 },
 "nbformat": 4,
 "nbformat_minor": 2
}
